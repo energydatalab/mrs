{
 "cells": [
  {
   "cell_type": "code",
   "execution_count": 41,
   "metadata": {},
   "outputs": [],
   "source": [
    "import geopandas as gpd\n",
    "import numpy as np\n",
    "import shapely"
   ]
  },
  {
   "cell_type": "markdown",
   "metadata": {},
   "source": [
    "### Calculate total predicted solar PV array area for each municipality/town in Connecticut (CT)"
   ]
  },
  {
   "cell_type": "markdown",
   "metadata": {},
   "source": [
    "Read all predicted polygons throughout CT. Predicted polygons can be downloaded [here](https://duke.box.com/s/8whjl21d48axlilaei3lgwxikqst9ba0)."
   ]
  },
  {
   "cell_type": "code",
   "execution_count": 2,
   "metadata": {},
   "outputs": [],
   "source": [
    "polygons = gpd.read_file('ct_polygons_updated_oct2021.geojson')"
   ]
  },
  {
   "cell_type": "code",
   "execution_count": 7,
   "metadata": {},
   "outputs": [
    {
     "data": {
      "text/html": [
       "<div>\n",
       "<style scoped>\n",
       "    .dataframe tbody tr th:only-of-type {\n",
       "        vertical-align: middle;\n",
       "    }\n",
       "\n",
       "    .dataframe tbody tr th {\n",
       "        vertical-align: top;\n",
       "    }\n",
       "\n",
       "    .dataframe thead th {\n",
       "        text-align: right;\n",
       "    }\n",
       "</style>\n",
       "<table border=\"1\" class=\"dataframe\">\n",
       "  <thead>\n",
       "    <tr style=\"text-align: right;\">\n",
       "      <th></th>\n",
       "      <th>area_px</th>\n",
       "      <th>use_type</th>\n",
       "      <th>object_id</th>\n",
       "      <th>tile_name</th>\n",
       "      <th>area_sqm</th>\n",
       "      <th>geometry</th>\n",
       "    </tr>\n",
       "  </thead>\n",
       "  <tbody>\n",
       "    <tr>\n",
       "      <th>0</th>\n",
       "      <td>107</td>\n",
       "      <td>residential</td>\n",
       "      <td>930725_ne_1</td>\n",
       "      <td>930725_ne</td>\n",
       "      <td>7.913764</td>\n",
       "      <td>POLYGON ((-72.98939 41.45877, -72.98940 41.458...</td>\n",
       "    </tr>\n",
       "    <tr>\n",
       "      <th>1</th>\n",
       "      <td>19</td>\n",
       "      <td>residential</td>\n",
       "      <td>930725_ne_1</td>\n",
       "      <td>930725_ne</td>\n",
       "      <td>1.079150</td>\n",
       "      <td>POLYGON ((-72.98938 41.45875, -72.98939 41.458...</td>\n",
       "    </tr>\n",
       "    <tr>\n",
       "      <th>2</th>\n",
       "      <td>16</td>\n",
       "      <td>residential</td>\n",
       "      <td>795625_se_1</td>\n",
       "      <td>795625_se</td>\n",
       "      <td>0.629504</td>\n",
       "      <td>POLYGON ((-73.47833 41.17982, -73.47833 41.179...</td>\n",
       "    </tr>\n",
       "    <tr>\n",
       "      <th>3</th>\n",
       "      <td>74</td>\n",
       "      <td>residential</td>\n",
       "      <td>795625_se_1</td>\n",
       "      <td>795625_se</td>\n",
       "      <td>5.305819</td>\n",
       "      <td>POLYGON ((-73.47838 41.17981, -73.47838 41.179...</td>\n",
       "    </tr>\n",
       "    <tr>\n",
       "      <th>4</th>\n",
       "      <td>33</td>\n",
       "      <td>residential</td>\n",
       "      <td>795625_se_1</td>\n",
       "      <td>795625_se</td>\n",
       "      <td>1.843547</td>\n",
       "      <td>POLYGON ((-73.47843 41.17978, -73.47843 41.179...</td>\n",
       "    </tr>\n",
       "  </tbody>\n",
       "</table>\n",
       "</div>"
      ],
      "text/plain": [
       "   area_px     use_type    object_id  tile_name  area_sqm  \\\n",
       "0      107  residential  930725_ne_1  930725_ne  7.913764   \n",
       "1       19  residential  930725_ne_1  930725_ne  1.079150   \n",
       "2       16  residential  795625_se_1  795625_se  0.629504   \n",
       "3       74  residential  795625_se_1  795625_se  5.305819   \n",
       "4       33  residential  795625_se_1  795625_se  1.843547   \n",
       "\n",
       "                                            geometry  \n",
       "0  POLYGON ((-72.98939 41.45877, -72.98940 41.458...  \n",
       "1  POLYGON ((-72.98938 41.45875, -72.98939 41.458...  \n",
       "2  POLYGON ((-73.47833 41.17982, -73.47833 41.179...  \n",
       "3  POLYGON ((-73.47838 41.17981, -73.47838 41.179...  \n",
       "4  POLYGON ((-73.47843 41.17978, -73.47843 41.179...  "
      ]
     },
     "execution_count": 7,
     "metadata": {},
     "output_type": "execute_result"
    }
   ],
   "source": [
    "polygons.head()"
   ]
  },
  {
   "cell_type": "markdown",
   "metadata": {},
   "source": [
    "Read CT town level boundary map. Downloaded from [2010 U.S. Census](http://magic.lib.uconn.edu/magic_2/vector/37800/townct_37800_0000_2010_s100_census_1_t.htm)"
   ]
  },
  {
   "cell_type": "code",
   "execution_count": 12,
   "metadata": {},
   "outputs": [],
   "source": [
    "ct_town_boundaries = gpd.read_file('townct_37800_0000_2010_s100_census_1_shp/wgs84/townct_37800_0000_2010_s100_census_1_shp_wgs84.shp')\n",
    "ct_town_boundaries = ct_town_boundaries.query('NAME10 != \"County subdivisions not defined\"') # Remove invalid rows"
   ]
  },
  {
   "cell_type": "code",
   "execution_count": 6,
   "metadata": {},
   "outputs": [
    {
     "data": {
      "text/html": [
       "<div>\n",
       "<style scoped>\n",
       "    .dataframe tbody tr th:only-of-type {\n",
       "        vertical-align: middle;\n",
       "    }\n",
       "\n",
       "    .dataframe tbody tr th {\n",
       "        vertical-align: top;\n",
       "    }\n",
       "\n",
       "    .dataframe thead th {\n",
       "        text-align: right;\n",
       "    }\n",
       "</style>\n",
       "<table border=\"1\" class=\"dataframe\">\n",
       "  <thead>\n",
       "    <tr style=\"text-align: right;\">\n",
       "      <th></th>\n",
       "      <th>STATEFP10</th>\n",
       "      <th>COUNTYFP10</th>\n",
       "      <th>COUSUBFP10</th>\n",
       "      <th>COUSUBNS10</th>\n",
       "      <th>GEOID10</th>\n",
       "      <th>NAME10</th>\n",
       "      <th>NAMELSAD10</th>\n",
       "      <th>LSAD10</th>\n",
       "      <th>CLASSFP10</th>\n",
       "      <th>MTFCC10</th>\n",
       "      <th>...</th>\n",
       "      <th>NECTAFP10</th>\n",
       "      <th>NCTADVFP10</th>\n",
       "      <th>FUNCSTAT10</th>\n",
       "      <th>ALAND10</th>\n",
       "      <th>AWATER10</th>\n",
       "      <th>INTPTLAT10</th>\n",
       "      <th>INTPTLON10</th>\n",
       "      <th>GEOID_AFF2</th>\n",
       "      <th>GEOID_AFF1</th>\n",
       "      <th>geometry</th>\n",
       "    </tr>\n",
       "  </thead>\n",
       "  <tbody>\n",
       "    <tr>\n",
       "      <th>0</th>\n",
       "      <td>09</td>\n",
       "      <td>001</td>\n",
       "      <td>00000</td>\n",
       "      <td>00000000</td>\n",
       "      <td>0900100000</td>\n",
       "      <td>County subdivisions not defined</td>\n",
       "      <td>County subdivisions not defined</td>\n",
       "      <td>00</td>\n",
       "      <td>Z9</td>\n",
       "      <td>G4040</td>\n",
       "      <td>...</td>\n",
       "      <td>None</td>\n",
       "      <td>None</td>\n",
       "      <td>F</td>\n",
       "      <td>0</td>\n",
       "      <td>302060009</td>\n",
       "      <td>+41.0779471</td>\n",
       "      <td>-073.2165184</td>\n",
       "      <td>0600000US0900100000</td>\n",
       "      <td>06000US0900100000</td>\n",
       "      <td>POLYGON ((-73.10137 41.16388, -73.09614 41.159...</td>\n",
       "    </tr>\n",
       "    <tr>\n",
       "      <th>1</th>\n",
       "      <td>09</td>\n",
       "      <td>001</td>\n",
       "      <td>04720</td>\n",
       "      <td>00213390</td>\n",
       "      <td>0900104720</td>\n",
       "      <td>Bethel</td>\n",
       "      <td>Bethel town</td>\n",
       "      <td>43</td>\n",
       "      <td>T1</td>\n",
       "      <td>G4040</td>\n",
       "      <td>...</td>\n",
       "      <td>72850</td>\n",
       "      <td>None</td>\n",
       "      <td>A</td>\n",
       "      <td>43741119</td>\n",
       "      <td>100805</td>\n",
       "      <td>+41.3697777</td>\n",
       "      <td>-073.3895032</td>\n",
       "      <td>0600000US0900104720</td>\n",
       "      <td>06000US0900104720</td>\n",
       "      <td>POLYGON ((-73.43371 41.36737, -73.43423 41.368...</td>\n",
       "    </tr>\n",
       "    <tr>\n",
       "      <th>2</th>\n",
       "      <td>09</td>\n",
       "      <td>001</td>\n",
       "      <td>08070</td>\n",
       "      <td>00213396</td>\n",
       "      <td>0900108070</td>\n",
       "      <td>Bridgeport</td>\n",
       "      <td>Bridgeport town</td>\n",
       "      <td>43</td>\n",
       "      <td>T5</td>\n",
       "      <td>G4040</td>\n",
       "      <td>...</td>\n",
       "      <td>71950</td>\n",
       "      <td>None</td>\n",
       "      <td>C</td>\n",
       "      <td>41372169</td>\n",
       "      <td>8719037</td>\n",
       "      <td>+41.1873858</td>\n",
       "      <td>-073.1957339</td>\n",
       "      <td>0600000US0900108070</td>\n",
       "      <td>06000US0900108070</td>\n",
       "      <td>POLYGON ((-73.23338 41.14300, -73.23361 41.143...</td>\n",
       "    </tr>\n",
       "    <tr>\n",
       "      <th>3</th>\n",
       "      <td>09</td>\n",
       "      <td>001</td>\n",
       "      <td>08980</td>\n",
       "      <td>00213399</td>\n",
       "      <td>0900108980</td>\n",
       "      <td>Brookfield</td>\n",
       "      <td>Brookfield town</td>\n",
       "      <td>43</td>\n",
       "      <td>T1</td>\n",
       "      <td>G4040</td>\n",
       "      <td>...</td>\n",
       "      <td>72850</td>\n",
       "      <td>None</td>\n",
       "      <td>A</td>\n",
       "      <td>51211648</td>\n",
       "      <td>1543913</td>\n",
       "      <td>+41.4698845</td>\n",
       "      <td>-073.3936666</td>\n",
       "      <td>0600000US0900108980</td>\n",
       "      <td>06000US0900108980</td>\n",
       "      <td>POLYGON ((-73.42154 41.44794, -73.42258 41.451...</td>\n",
       "    </tr>\n",
       "    <tr>\n",
       "      <th>4</th>\n",
       "      <td>09</td>\n",
       "      <td>001</td>\n",
       "      <td>18500</td>\n",
       "      <td>00213415</td>\n",
       "      <td>0900118500</td>\n",
       "      <td>Danbury</td>\n",
       "      <td>Danbury town</td>\n",
       "      <td>43</td>\n",
       "      <td>T5</td>\n",
       "      <td>G4040</td>\n",
       "      <td>...</td>\n",
       "      <td>72850</td>\n",
       "      <td>None</td>\n",
       "      <td>C</td>\n",
       "      <td>108499386</td>\n",
       "      <td>5829369</td>\n",
       "      <td>+41.4018389</td>\n",
       "      <td>-073.4722848</td>\n",
       "      <td>0600000US0900118500</td>\n",
       "      <td>06000US0900118500</td>\n",
       "      <td>POLYGON ((-73.42378 41.45487, -73.42294 41.452...</td>\n",
       "    </tr>\n",
       "  </tbody>\n",
       "</table>\n",
       "<p>5 rows × 21 columns</p>\n",
       "</div>"
      ],
      "text/plain": [
       "  STATEFP10 COUNTYFP10 COUSUBFP10 COUSUBNS10     GEOID10  \\\n",
       "0        09        001      00000   00000000  0900100000   \n",
       "1        09        001      04720   00213390  0900104720   \n",
       "2        09        001      08070   00213396  0900108070   \n",
       "3        09        001      08980   00213399  0900108980   \n",
       "4        09        001      18500   00213415  0900118500   \n",
       "\n",
       "                            NAME10                       NAMELSAD10 LSAD10  \\\n",
       "0  County subdivisions not defined  County subdivisions not defined     00   \n",
       "1                           Bethel                      Bethel town     43   \n",
       "2                       Bridgeport                  Bridgeport town     43   \n",
       "3                       Brookfield                  Brookfield town     43   \n",
       "4                          Danbury                     Danbury town     43   \n",
       "\n",
       "  CLASSFP10 MTFCC10  ... NECTAFP10 NCTADVFP10 FUNCSTAT10    ALAND10  \\\n",
       "0        Z9   G4040  ...      None       None          F          0   \n",
       "1        T1   G4040  ...     72850       None          A   43741119   \n",
       "2        T5   G4040  ...     71950       None          C   41372169   \n",
       "3        T1   G4040  ...     72850       None          A   51211648   \n",
       "4        T5   G4040  ...     72850       None          C  108499386   \n",
       "\n",
       "    AWATER10   INTPTLAT10    INTPTLON10           GEOID_AFF2  \\\n",
       "0  302060009  +41.0779471  -073.2165184  0600000US0900100000   \n",
       "1     100805  +41.3697777  -073.3895032  0600000US0900104720   \n",
       "2    8719037  +41.1873858  -073.1957339  0600000US0900108070   \n",
       "3    1543913  +41.4698845  -073.3936666  0600000US0900108980   \n",
       "4    5829369  +41.4018389  -073.4722848  0600000US0900118500   \n",
       "\n",
       "          GEOID_AFF1                                           geometry  \n",
       "0  06000US0900100000  POLYGON ((-73.10137 41.16388, -73.09614 41.159...  \n",
       "1  06000US0900104720  POLYGON ((-73.43371 41.36737, -73.43423 41.368...  \n",
       "2  06000US0900108070  POLYGON ((-73.23338 41.14300, -73.23361 41.143...  \n",
       "3  06000US0900108980  POLYGON ((-73.42154 41.44794, -73.42258 41.451...  \n",
       "4  06000US0900118500  POLYGON ((-73.42378 41.45487, -73.42294 41.452...  \n",
       "\n",
       "[5 rows x 21 columns]"
      ]
     },
     "execution_count": 6,
     "metadata": {},
     "output_type": "execute_result"
    }
   ],
   "source": [
    "ct_town_boundaries.head()"
   ]
  },
  {
   "cell_type": "code",
   "execution_count": 3,
   "metadata": {},
   "outputs": [
    {
     "data": {
      "text/plain": [
       "<Geographic 2D CRS: EPSG:4326>\n",
       "Name: WGS 84\n",
       "Axis Info [ellipsoidal]:\n",
       "- Lat[north]: Geodetic latitude (degree)\n",
       "- Lon[east]: Geodetic longitude (degree)\n",
       "Area of Use:\n",
       "- name: World\n",
       "- bounds: (-180.0, -90.0, 180.0, 90.0)\n",
       "Datum: World Geodetic System 1984\n",
       "- Ellipsoid: WGS 84\n",
       "- Prime Meridian: Greenwich"
      ]
     },
     "execution_count": 3,
     "metadata": {},
     "output_type": "execute_result"
    }
   ],
   "source": [
    "polygons.crs"
   ]
  },
  {
   "cell_type": "code",
   "execution_count": 5,
   "metadata": {},
   "outputs": [
    {
     "data": {
      "text/plain": [
       "<Geographic 2D CRS: EPSG:4326>\n",
       "Name: WGS 84\n",
       "Axis Info [ellipsoidal]:\n",
       "- Lat[north]: Geodetic latitude (degree)\n",
       "- Lon[east]: Geodetic longitude (degree)\n",
       "Area of Use:\n",
       "- name: World\n",
       "- bounds: (-180.0, -90.0, 180.0, 90.0)\n",
       "Datum: World Geodetic System 1984\n",
       "- Ellipsoid: WGS 84\n",
       "- Prime Meridian: Greenwich"
      ]
     },
     "execution_count": 5,
     "metadata": {},
     "output_type": "execute_result"
    }
   ],
   "source": [
    "ct_town_boundaries.crs"
   ]
  },
  {
   "cell_type": "markdown",
   "metadata": {},
   "source": [
    "Two geospatial datasets have the same coordinates reference system (CRS), so no conversion is needed. We then find the geospatial intersection of the two datasets."
   ]
  },
  {
   "cell_type": "code",
   "execution_count": 13,
   "metadata": {},
   "outputs": [],
   "source": [
    "intersection = gpd.overlay(polygons, ct_town_boundaries, how='intersection')"
   ]
  },
  {
   "cell_type": "markdown",
   "metadata": {},
   "source": [
    "Now each polygon row has information of the town it intersects with."
   ]
  },
  {
   "cell_type": "code",
   "execution_count": 16,
   "metadata": {},
   "outputs": [
    {
     "data": {
      "text/html": [
       "<div>\n",
       "<style scoped>\n",
       "    .dataframe tbody tr th:only-of-type {\n",
       "        vertical-align: middle;\n",
       "    }\n",
       "\n",
       "    .dataframe tbody tr th {\n",
       "        vertical-align: top;\n",
       "    }\n",
       "\n",
       "    .dataframe thead th {\n",
       "        text-align: right;\n",
       "    }\n",
       "</style>\n",
       "<table border=\"1\" class=\"dataframe\">\n",
       "  <thead>\n",
       "    <tr style=\"text-align: right;\">\n",
       "      <th></th>\n",
       "      <th>area_px</th>\n",
       "      <th>use_type</th>\n",
       "      <th>object_id</th>\n",
       "      <th>tile_name</th>\n",
       "      <th>area_sqm</th>\n",
       "      <th>STATEFP10</th>\n",
       "      <th>COUNTYFP10</th>\n",
       "      <th>COUSUBFP10</th>\n",
       "      <th>COUSUBNS10</th>\n",
       "      <th>GEOID10</th>\n",
       "      <th>...</th>\n",
       "      <th>NECTAFP10</th>\n",
       "      <th>NCTADVFP10</th>\n",
       "      <th>FUNCSTAT10</th>\n",
       "      <th>ALAND10</th>\n",
       "      <th>AWATER10</th>\n",
       "      <th>INTPTLAT10</th>\n",
       "      <th>INTPTLON10</th>\n",
       "      <th>GEOID_AFF2</th>\n",
       "      <th>GEOID_AFF1</th>\n",
       "      <th>geometry</th>\n",
       "    </tr>\n",
       "  </thead>\n",
       "  <tbody>\n",
       "    <tr>\n",
       "      <th>0</th>\n",
       "      <td>107</td>\n",
       "      <td>residential</td>\n",
       "      <td>930725_ne_1</td>\n",
       "      <td>930725_ne</td>\n",
       "      <td>7.913764</td>\n",
       "      <td>09</td>\n",
       "      <td>009</td>\n",
       "      <td>04580</td>\n",
       "      <td>00213389</td>\n",
       "      <td>0900904580</td>\n",
       "      <td>...</td>\n",
       "      <td>75700</td>\n",
       "      <td>None</td>\n",
       "      <td>A</td>\n",
       "      <td>54724417</td>\n",
       "      <td>996204</td>\n",
       "      <td>+41.4229640</td>\n",
       "      <td>-072.9941871</td>\n",
       "      <td>0600000US0900904580</td>\n",
       "      <td>06000US0900904580</td>\n",
       "      <td>POLYGON ((-72.98939 41.45877, -72.98939 41.458...</td>\n",
       "    </tr>\n",
       "    <tr>\n",
       "      <th>1</th>\n",
       "      <td>19</td>\n",
       "      <td>residential</td>\n",
       "      <td>930725_ne_1</td>\n",
       "      <td>930725_ne</td>\n",
       "      <td>1.079150</td>\n",
       "      <td>09</td>\n",
       "      <td>009</td>\n",
       "      <td>04580</td>\n",
       "      <td>00213389</td>\n",
       "      <td>0900904580</td>\n",
       "      <td>...</td>\n",
       "      <td>75700</td>\n",
       "      <td>None</td>\n",
       "      <td>A</td>\n",
       "      <td>54724417</td>\n",
       "      <td>996204</td>\n",
       "      <td>+41.4229640</td>\n",
       "      <td>-072.9941871</td>\n",
       "      <td>0600000US0900904580</td>\n",
       "      <td>06000US0900904580</td>\n",
       "      <td>POLYGON ((-72.98938 41.45875, -72.98937 41.458...</td>\n",
       "    </tr>\n",
       "    <tr>\n",
       "      <th>2</th>\n",
       "      <td>75</td>\n",
       "      <td>residential</td>\n",
       "      <td>930705_sw_1</td>\n",
       "      <td>930705_sw</td>\n",
       "      <td>4.316599</td>\n",
       "      <td>09</td>\n",
       "      <td>009</td>\n",
       "      <td>04580</td>\n",
       "      <td>00213389</td>\n",
       "      <td>0900904580</td>\n",
       "      <td>...</td>\n",
       "      <td>75700</td>\n",
       "      <td>None</td>\n",
       "      <td>A</td>\n",
       "      <td>54724417</td>\n",
       "      <td>996204</td>\n",
       "      <td>+41.4229640</td>\n",
       "      <td>-072.9941871</td>\n",
       "      <td>0600000US0900904580</td>\n",
       "      <td>06000US0900904580</td>\n",
       "      <td>MULTIPOLYGON (((-73.00141 41.39690, -73.00141 ...</td>\n",
       "    </tr>\n",
       "    <tr>\n",
       "      <th>3</th>\n",
       "      <td>13</td>\n",
       "      <td>residential</td>\n",
       "      <td>930705_sw_2</td>\n",
       "      <td>930705_sw</td>\n",
       "      <td>0.494610</td>\n",
       "      <td>09</td>\n",
       "      <td>009</td>\n",
       "      <td>04580</td>\n",
       "      <td>00213389</td>\n",
       "      <td>0900904580</td>\n",
       "      <td>...</td>\n",
       "      <td>75700</td>\n",
       "      <td>None</td>\n",
       "      <td>A</td>\n",
       "      <td>54724417</td>\n",
       "      <td>996204</td>\n",
       "      <td>+41.4229640</td>\n",
       "      <td>-072.9941871</td>\n",
       "      <td>0600000US0900904580</td>\n",
       "      <td>06000US0900904580</td>\n",
       "      <td>POLYGON ((-73.00141 41.39573, -73.00141 41.395...</td>\n",
       "    </tr>\n",
       "    <tr>\n",
       "      <th>4</th>\n",
       "      <td>64</td>\n",
       "      <td>residential</td>\n",
       "      <td>925715_ne_1</td>\n",
       "      <td>925715_ne</td>\n",
       "      <td>4.361563</td>\n",
       "      <td>09</td>\n",
       "      <td>009</td>\n",
       "      <td>04580</td>\n",
       "      <td>00213389</td>\n",
       "      <td>0900904580</td>\n",
       "      <td>...</td>\n",
       "      <td>75700</td>\n",
       "      <td>None</td>\n",
       "      <td>A</td>\n",
       "      <td>54724417</td>\n",
       "      <td>996204</td>\n",
       "      <td>+41.4229640</td>\n",
       "      <td>-072.9941871</td>\n",
       "      <td>0600000US0900904580</td>\n",
       "      <td>06000US0900904580</td>\n",
       "      <td>POLYGON ((-73.01108 41.43586, -73.01108 41.435...</td>\n",
       "    </tr>\n",
       "  </tbody>\n",
       "</table>\n",
       "<p>5 rows × 26 columns</p>\n",
       "</div>"
      ],
      "text/plain": [
       "   area_px     use_type    object_id  tile_name  area_sqm STATEFP10  \\\n",
       "0      107  residential  930725_ne_1  930725_ne  7.913764        09   \n",
       "1       19  residential  930725_ne_1  930725_ne  1.079150        09   \n",
       "2       75  residential  930705_sw_1  930705_sw  4.316599        09   \n",
       "3       13  residential  930705_sw_2  930705_sw  0.494610        09   \n",
       "4       64  residential  925715_ne_1  925715_ne  4.361563        09   \n",
       "\n",
       "  COUNTYFP10 COUSUBFP10 COUSUBNS10     GEOID10  ... NECTAFP10 NCTADVFP10  \\\n",
       "0        009      04580   00213389  0900904580  ...     75700       None   \n",
       "1        009      04580   00213389  0900904580  ...     75700       None   \n",
       "2        009      04580   00213389  0900904580  ...     75700       None   \n",
       "3        009      04580   00213389  0900904580  ...     75700       None   \n",
       "4        009      04580   00213389  0900904580  ...     75700       None   \n",
       "\n",
       "  FUNCSTAT10   ALAND10 AWATER10   INTPTLAT10    INTPTLON10  \\\n",
       "0          A  54724417   996204  +41.4229640  -072.9941871   \n",
       "1          A  54724417   996204  +41.4229640  -072.9941871   \n",
       "2          A  54724417   996204  +41.4229640  -072.9941871   \n",
       "3          A  54724417   996204  +41.4229640  -072.9941871   \n",
       "4          A  54724417   996204  +41.4229640  -072.9941871   \n",
       "\n",
       "            GEOID_AFF2         GEOID_AFF1  \\\n",
       "0  0600000US0900904580  06000US0900904580   \n",
       "1  0600000US0900904580  06000US0900904580   \n",
       "2  0600000US0900904580  06000US0900904580   \n",
       "3  0600000US0900904580  06000US0900904580   \n",
       "4  0600000US0900904580  06000US0900904580   \n",
       "\n",
       "                                            geometry  \n",
       "0  POLYGON ((-72.98939 41.45877, -72.98939 41.458...  \n",
       "1  POLYGON ((-72.98938 41.45875, -72.98937 41.458...  \n",
       "2  MULTIPOLYGON (((-73.00141 41.39690, -73.00141 ...  \n",
       "3  POLYGON ((-73.00141 41.39573, -73.00141 41.395...  \n",
       "4  POLYGON ((-73.01108 41.43586, -73.01108 41.435...  \n",
       "\n",
       "[5 rows x 26 columns]"
      ]
     },
     "execution_count": 16,
     "metadata": {},
     "output_type": "execute_result"
    }
   ],
   "source": [
    "intersection.head()"
   ]
  },
  {
   "cell_type": "markdown",
   "metadata": {},
   "source": [
    "We can then calculate the total polygon size grouping by each town. Only residential solar PV polygons are included."
   ]
  },
  {
   "cell_type": "code",
   "execution_count": 20,
   "metadata": {},
   "outputs": [],
   "source": [
    "ct_panel_area = intersection.query('use_type == \"residential\"').groupby('NAME10').sum()"
   ]
  },
  {
   "cell_type": "markdown",
   "metadata": {},
   "source": [
    "Now we have the total panel area aggregated by town (`area_px` for pixel area, and `area_sqm` for area in $m^2$)."
   ]
  },
  {
   "cell_type": "code",
   "execution_count": 21,
   "metadata": {},
   "outputs": [
    {
     "data": {
      "text/html": [
       "<div>\n",
       "<style scoped>\n",
       "    .dataframe tbody tr th:only-of-type {\n",
       "        vertical-align: middle;\n",
       "    }\n",
       "\n",
       "    .dataframe tbody tr th {\n",
       "        vertical-align: top;\n",
       "    }\n",
       "\n",
       "    .dataframe thead th {\n",
       "        text-align: right;\n",
       "    }\n",
       "</style>\n",
       "<table border=\"1\" class=\"dataframe\">\n",
       "  <thead>\n",
       "    <tr style=\"text-align: right;\">\n",
       "      <th></th>\n",
       "      <th>area_px</th>\n",
       "      <th>area_sqm</th>\n",
       "      <th>ALAND10</th>\n",
       "      <th>AWATER10</th>\n",
       "    </tr>\n",
       "    <tr>\n",
       "      <th>NAME10</th>\n",
       "      <th></th>\n",
       "      <th></th>\n",
       "      <th></th>\n",
       "      <th></th>\n",
       "    </tr>\n",
       "  </thead>\n",
       "  <tbody>\n",
       "    <tr>\n",
       "      <th>Andover</th>\n",
       "      <td>9424</td>\n",
       "      <td>751.987443</td>\n",
       "      <td>1120244412</td>\n",
       "      <td>17910340</td>\n",
       "    </tr>\n",
       "    <tr>\n",
       "      <th>Ansonia</th>\n",
       "      <td>46954</td>\n",
       "      <td>3744.289547</td>\n",
       "      <td>2587747772</td>\n",
       "      <td>72244694</td>\n",
       "    </tr>\n",
       "    <tr>\n",
       "      <th>Ashford</th>\n",
       "      <td>36631</td>\n",
       "      <td>2900.349561</td>\n",
       "      <td>13753793598</td>\n",
       "      <td>251095244</td>\n",
       "    </tr>\n",
       "    <tr>\n",
       "      <th>Avon</th>\n",
       "      <td>61603</td>\n",
       "      <td>4921.282091</td>\n",
       "      <td>13852721190</td>\n",
       "      <td>262229121</td>\n",
       "    </tr>\n",
       "    <tr>\n",
       "      <th>Barkhamsted</th>\n",
       "      <td>12468</td>\n",
       "      <td>998.078527</td>\n",
       "      <td>4131457968</td>\n",
       "      <td>293544504</td>\n",
       "    </tr>\n",
       "  </tbody>\n",
       "</table>\n",
       "</div>"
      ],
      "text/plain": [
       "             area_px     area_sqm      ALAND10   AWATER10\n",
       "NAME10                                                   \n",
       "Andover         9424   751.987443   1120244412   17910340\n",
       "Ansonia        46954  3744.289547   2587747772   72244694\n",
       "Ashford        36631  2900.349561  13753793598  251095244\n",
       "Avon           61603  4921.282091  13852721190  262229121\n",
       "Barkhamsted    12468   998.078527   4131457968  293544504"
      ]
     },
     "execution_count": 21,
     "metadata": {},
     "output_type": "execute_result"
    }
   ],
   "source": [
    "ct_panel_area.head()"
   ]
  },
  {
   "cell_type": "markdown",
   "metadata": {},
   "source": [
    "### Plot panel area density at different resolution"
   ]
  },
  {
   "cell_type": "markdown",
   "metadata": {},
   "source": [
    "We first plot the total panel area by town."
   ]
  },
  {
   "cell_type": "code",
   "execution_count": 34,
   "metadata": {},
   "outputs": [],
   "source": [
    "# Add geometry information (town boundary polygon) to aggregated panel area by town.\n",
    "ct_town_geometry = ct_town_boundaries[['NAME10', 'geometry']]\n",
    "ct_town_geometry = ct_town_geometry.set_index('NAME10')\n",
    "ct_panel_area = ct_panel_area.join(ct_town_geometry, how='left')"
   ]
  },
  {
   "cell_type": "code",
   "execution_count": 35,
   "metadata": {},
   "outputs": [
    {
     "data": {
      "text/html": [
       "<div>\n",
       "<style scoped>\n",
       "    .dataframe tbody tr th:only-of-type {\n",
       "        vertical-align: middle;\n",
       "    }\n",
       "\n",
       "    .dataframe tbody tr th {\n",
       "        vertical-align: top;\n",
       "    }\n",
       "\n",
       "    .dataframe thead th {\n",
       "        text-align: right;\n",
       "    }\n",
       "</style>\n",
       "<table border=\"1\" class=\"dataframe\">\n",
       "  <thead>\n",
       "    <tr style=\"text-align: right;\">\n",
       "      <th></th>\n",
       "      <th>area_px</th>\n",
       "      <th>area_sqm</th>\n",
       "      <th>ALAND10</th>\n",
       "      <th>AWATER10</th>\n",
       "      <th>geometry</th>\n",
       "    </tr>\n",
       "    <tr>\n",
       "      <th>NAME10</th>\n",
       "      <th></th>\n",
       "      <th></th>\n",
       "      <th></th>\n",
       "      <th></th>\n",
       "      <th></th>\n",
       "    </tr>\n",
       "  </thead>\n",
       "  <tbody>\n",
       "    <tr>\n",
       "      <th>Andover</th>\n",
       "      <td>9424</td>\n",
       "      <td>751.987443</td>\n",
       "      <td>1120244412</td>\n",
       "      <td>17910340</td>\n",
       "      <td>POLYGON ((-72.42150 41.73202, -72.42143 41.732...</td>\n",
       "    </tr>\n",
       "    <tr>\n",
       "      <th>Ansonia</th>\n",
       "      <td>46954</td>\n",
       "      <td>3744.289547</td>\n",
       "      <td>2587747772</td>\n",
       "      <td>72244694</td>\n",
       "      <td>POLYGON ((-73.09490 41.36058, -73.09481 41.360...</td>\n",
       "    </tr>\n",
       "    <tr>\n",
       "      <th>Ashford</th>\n",
       "      <td>36631</td>\n",
       "      <td>2900.349561</td>\n",
       "      <td>13753793598</td>\n",
       "      <td>251095244</td>\n",
       "      <td>POLYGON ((-72.12654 41.90101, -72.12558 41.899...</td>\n",
       "    </tr>\n",
       "    <tr>\n",
       "      <th>Avon</th>\n",
       "      <td>61603</td>\n",
       "      <td>4921.282091</td>\n",
       "      <td>13852721190</td>\n",
       "      <td>262229121</td>\n",
       "      <td>POLYGON ((-72.88069 41.76540, -72.88094 41.765...</td>\n",
       "    </tr>\n",
       "    <tr>\n",
       "      <th>Barkhamsted</th>\n",
       "      <td>12468</td>\n",
       "      <td>998.078527</td>\n",
       "      <td>4131457968</td>\n",
       "      <td>293544504</td>\n",
       "      <td>POLYGON ((-72.93978 41.89526, -72.94065 41.895...</td>\n",
       "    </tr>\n",
       "    <tr>\n",
       "      <th>...</th>\n",
       "      <td>...</td>\n",
       "      <td>...</td>\n",
       "      <td>...</td>\n",
       "      <td>...</td>\n",
       "      <td>...</td>\n",
       "    </tr>\n",
       "    <tr>\n",
       "      <th>Windsor Locks</th>\n",
       "      <td>60924</td>\n",
       "      <td>4710.488194</td>\n",
       "      <td>7245006900</td>\n",
       "      <td>274400530</td>\n",
       "      <td>POLYGON ((-72.62268 41.91712, -72.62266 41.916...</td>\n",
       "    </tr>\n",
       "    <tr>\n",
       "      <th>Wolcott</th>\n",
       "      <td>64375</td>\n",
       "      <td>5122.228748</td>\n",
       "      <td>12331571367</td>\n",
       "      <td>402100682</td>\n",
       "      <td>POLYGON ((-73.00247 41.57431, -73.00368 41.575...</td>\n",
       "    </tr>\n",
       "    <tr>\n",
       "      <th>Woodbridge</th>\n",
       "      <td>36894</td>\n",
       "      <td>2920.493688</td>\n",
       "      <td>7113458866</td>\n",
       "      <td>141903386</td>\n",
       "      <td>POLYGON ((-73.04889 41.38414, -73.04846 41.388...</td>\n",
       "    </tr>\n",
       "    <tr>\n",
       "      <th>Woodbury</th>\n",
       "      <td>23598</td>\n",
       "      <td>1859.060084</td>\n",
       "      <td>9238686184</td>\n",
       "      <td>62021358</td>\n",
       "      <td>POLYGON ((-73.26106 41.55855, -73.26111 41.559...</td>\n",
       "    </tr>\n",
       "    <tr>\n",
       "      <th>Woodstock</th>\n",
       "      <td>53725</td>\n",
       "      <td>4270.464927</td>\n",
       "      <td>31728242010</td>\n",
       "      <td>620252514</td>\n",
       "      <td>POLYGON ((-71.94696 41.97944, -71.94611 41.976...</td>\n",
       "    </tr>\n",
       "  </tbody>\n",
       "</table>\n",
       "<p>169 rows × 5 columns</p>\n",
       "</div>"
      ],
      "text/plain": [
       "               area_px     area_sqm      ALAND10   AWATER10  \\\n",
       "NAME10                                                        \n",
       "Andover           9424   751.987443   1120244412   17910340   \n",
       "Ansonia          46954  3744.289547   2587747772   72244694   \n",
       "Ashford          36631  2900.349561  13753793598  251095244   \n",
       "Avon             61603  4921.282091  13852721190  262229121   \n",
       "Barkhamsted      12468   998.078527   4131457968  293544504   \n",
       "...                ...          ...          ...        ...   \n",
       "Windsor Locks    60924  4710.488194   7245006900  274400530   \n",
       "Wolcott          64375  5122.228748  12331571367  402100682   \n",
       "Woodbridge       36894  2920.493688   7113458866  141903386   \n",
       "Woodbury         23598  1859.060084   9238686184   62021358   \n",
       "Woodstock        53725  4270.464927  31728242010  620252514   \n",
       "\n",
       "                                                        geometry  \n",
       "NAME10                                                            \n",
       "Andover        POLYGON ((-72.42150 41.73202, -72.42143 41.732...  \n",
       "Ansonia        POLYGON ((-73.09490 41.36058, -73.09481 41.360...  \n",
       "Ashford        POLYGON ((-72.12654 41.90101, -72.12558 41.899...  \n",
       "Avon           POLYGON ((-72.88069 41.76540, -72.88094 41.765...  \n",
       "Barkhamsted    POLYGON ((-72.93978 41.89526, -72.94065 41.895...  \n",
       "...                                                          ...  \n",
       "Windsor Locks  POLYGON ((-72.62268 41.91712, -72.62266 41.916...  \n",
       "Wolcott        POLYGON ((-73.00247 41.57431, -73.00368 41.575...  \n",
       "Woodbridge     POLYGON ((-73.04889 41.38414, -73.04846 41.388...  \n",
       "Woodbury       POLYGON ((-73.26106 41.55855, -73.26111 41.559...  \n",
       "Woodstock      POLYGON ((-71.94696 41.97944, -71.94611 41.976...  \n",
       "\n",
       "[169 rows x 5 columns]"
      ]
     },
     "execution_count": 35,
     "metadata": {},
     "output_type": "execute_result"
    }
   ],
   "source": [
    "ct_panel_area"
   ]
  },
  {
   "cell_type": "code",
   "execution_count": 36,
   "metadata": {},
   "outputs": [
    {
     "data": {
      "text/plain": [
       "<AxesSubplot:>"
      ]
     },
     "execution_count": 36,
     "metadata": {},
     "output_type": "execute_result"
    },
    {
     "data": {
      "image/png": "[encoded data removed]",
      "text/plain": [
       "<Figure size 432x288 with 1 Axes>"
      ]
     },
     "metadata": {
      "needs_background": "light"
     },
     "output_type": "display_data"
    }
   ],
   "source": [
    "ct_panel_area.plot(column='area_sqm')"
   ]
  },
  {
   "cell_type": "markdown",
   "metadata": {},
   "source": [
    "As shown above, to plot panel area density at a given resolution, you'll need:\n",
    "1. Predicted solar panel polygons with geospatial coordinates.\n",
    "2. A set of boundaries to aggregate panel area at. This can be any grid at any resolution. In the example above, we used CT town boundaries."
   ]
  },
  {
   "cell_type": "markdown",
   "metadata": {},
   "source": [
    "We now show another example of plotting aggregated panel area at $25 km^2$ grid throughout CT."
   ]
  },
  {
   "cell_type": "code",
   "execution_count": 37,
   "metadata": {},
   "outputs": [],
   "source": [
    "def make_grid(total_bounds, grid_size_metre=1000):\n",
    "    \"\"\"Generate grid cells within a bounded area\n",
    "\n",
    "    Args:\n",
    "        total_bounds (tuple): x,y min and max boundaries, in meter-unit CRS\n",
    "        grid_size_metre (int, optional): The size of each grid cell. Defaults to 1000.\n",
    "\n",
    "    Returns:\n",
    "        GeoDataFrame: generated grid cells\n",
    "    \"\"\"\n",
    "    \n",
    "    xmin, ymin, xmax, ymax = total_bounds\n",
    "    \n",
    "    grid_cells = []\n",
    "    for x0 in np.arange(xmin, xmax+grid_size_metre, grid_size_metre):\n",
    "        for y0 in np.arange(ymin, ymax+grid_size_metre, grid_size_metre):\n",
    "            # bounds\n",
    "            x1 = x0 - grid_size_metre\n",
    "            y1 = y0 + grid_size_metre\n",
    "            grid_cells.append(shapely.geometry.box(x0, y0, x1, y1))\n",
    "    \n",
    "    cell_gdf = gpd.GeoDataFrame(grid_cells, columns=['geometry'], crs='epsg:6433') # EPSG:6433 is the metre-unit CRS covering Connecticut\n",
    "    cell_gdf['cell_id'] = np.arange(len(cell_gdf)).astype(str)\n",
    "    \n",
    "    return cell_gdf.to_crs('epsg:4326')\n",
    "\n",
    "\n",
    "def make_state_grid(grid_cells, state_boundary):\n",
    "    \"\"\"Clip generated grid within state boundary\n",
    "\n",
    "    Args:\n",
    "        grid_cells (GeoDataFrame): generated grid cells\n",
    "        state_boundary (GeoDataFrame): state outer boundary\n",
    "\n",
    "    Returns:\n",
    "        GeoDataFrame: grid cells bounded by state boundary\n",
    "    \"\"\"\n",
    "    state_grid = gpd.overlay(\n",
    "        grid_cells,\n",
    "        state_boundary,\n",
    "        how='intersection'\n",
    "    )\n",
    "    \n",
    "    return state_grid"
   ]
  },
  {
   "cell_type": "code",
   "execution_count": 38,
   "metadata": {},
   "outputs": [],
   "source": [
    "ct_state_boundaries = gpd.GeoDataFrame(geometry=[ct_town_geometry.geometry.unary_union], crs=ct_town_geometry.crs) # Get state outer boundary from town level boundary"
   ]
  },
  {
   "cell_type": "code",
   "execution_count": 39,
   "metadata": {},
   "outputs": [
    {
     "data": {
      "text/plain": [
       "<AxesSubplot:>"
      ]
     },
     "execution_count": 39,
     "metadata": {},
     "output_type": "execute_result"
    },
    {
     "data": {
      "image/png": "[encoded data removed]",
      "text/plain": [
       "<Figure size 432x288 with 1 Axes>"
      ]
     },
     "metadata": {
      "needs_background": "light"
     },
     "output_type": "display_data"
    }
   ],
   "source": [
    "ct_state_boundaries.plot()"
   ]
  },
  {
   "cell_type": "code",
   "execution_count": 45,
   "metadata": {},
   "outputs": [],
   "source": [
    "grid_size_metre = 5000 # Size in metre of each square grid cell\n",
    "\n",
    "ct_state_grid = make_state_grid(\n",
    "    make_grid(ct_state_boundaries.to_crs('epsg:6433').total_bounds, grid_size_metre), # EPSG:6433 is the metre-unit CRS covering Connecticut\n",
    "    ct_state_boundaries\n",
    ")"
   ]
  },
  {
   "cell_type": "code",
   "execution_count": 46,
   "metadata": {},
   "outputs": [
    {
     "data": {
      "text/plain": [
       "<AxesSubplot:>"
      ]
     },
     "execution_count": 46,
     "metadata": {},
     "output_type": "execute_result"
    },
    {
     "data": {
      "image/png": "[encoded data removed]",
      "text/plain": [
       "<Figure size 432x288 with 1 Axes>"
      ]
     },
     "metadata": {
      "needs_background": "light"
     },
     "output_type": "display_data"
    }
   ],
   "source": [
    "ct_state_grid.plot()"
   ]
  },
  {
   "cell_type": "markdown",
   "metadata": {},
   "source": [
    "Now we have the $25 km^2$ grid for the entire state of CT. We can then find the geospatial intersection of the grid cells and predicted polygons to get the total panel area by town, and then plot panel area density by town."
   ]
  },
  {
   "cell_type": "code",
   "execution_count": 48,
   "metadata": {},
   "outputs": [
    {
     "data": {
      "text/html": [
       "<div>\n",
       "<style scoped>\n",
       "    .dataframe tbody tr th:only-of-type {\n",
       "        vertical-align: middle;\n",
       "    }\n",
       "\n",
       "    .dataframe tbody tr th {\n",
       "        vertical-align: top;\n",
       "    }\n",
       "\n",
       "    .dataframe thead th {\n",
       "        text-align: right;\n",
       "    }\n",
       "</style>\n",
       "<table border=\"1\" class=\"dataframe\">\n",
       "  <thead>\n",
       "    <tr style=\"text-align: right;\">\n",
       "      <th></th>\n",
       "      <th>cell_id</th>\n",
       "      <th>geometry</th>\n",
       "    </tr>\n",
       "  </thead>\n",
       "  <tbody>\n",
       "    <tr>\n",
       "      <th>0</th>\n",
       "      <td>27</td>\n",
       "      <td>POLYGON ((-73.67861 41.04048, -73.66741 41.040...</td>\n",
       "    </tr>\n",
       "    <tr>\n",
       "      <th>1</th>\n",
       "      <td>28</td>\n",
       "      <td>POLYGON ((-73.71500 41.08520, -73.66804 41.085...</td>\n",
       "    </tr>\n",
       "    <tr>\n",
       "      <th>2</th>\n",
       "      <td>29</td>\n",
       "      <td>POLYGON ((-73.66864 41.12825, -73.66804 41.085...</td>\n",
       "    </tr>\n",
       "    <tr>\n",
       "      <th>3</th>\n",
       "      <td>52</td>\n",
       "      <td>POLYGON ((-73.65949 40.99561, -73.60736 40.996...</td>\n",
       "    </tr>\n",
       "    <tr>\n",
       "      <th>4</th>\n",
       "      <td>53</td>\n",
       "      <td>POLYGON ((-73.66721 41.02611, -73.66741 41.040...</td>\n",
       "    </tr>\n",
       "  </tbody>\n",
       "</table>\n",
       "</div>"
      ],
      "text/plain": [
       "  cell_id                                           geometry\n",
       "0      27  POLYGON ((-73.67861 41.04048, -73.66741 41.040...\n",
       "1      28  POLYGON ((-73.71500 41.08520, -73.66804 41.085...\n",
       "2      29  POLYGON ((-73.66864 41.12825, -73.66804 41.085...\n",
       "3      52  POLYGON ((-73.65949 40.99561, -73.60736 40.996...\n",
       "4      53  POLYGON ((-73.66721 41.02611, -73.66741 41.040..."
      ]
     },
     "execution_count": 48,
     "metadata": {},
     "output_type": "execute_result"
    }
   ],
   "source": [
    "ct_state_grid.head()"
   ]
  },
  {
   "cell_type": "code",
   "execution_count": 62,
   "metadata": {},
   "outputs": [
    {
     "data": {
      "text/html": [
       "<div>\n",
       "<style scoped>\n",
       "    .dataframe tbody tr th:only-of-type {\n",
       "        vertical-align: middle;\n",
       "    }\n",
       "\n",
       "    .dataframe tbody tr th {\n",
       "        vertical-align: top;\n",
       "    }\n",
       "\n",
       "    .dataframe thead th {\n",
       "        text-align: right;\n",
       "    }\n",
       "</style>\n",
       "<table border=\"1\" class=\"dataframe\">\n",
       "  <thead>\n",
       "    <tr style=\"text-align: right;\">\n",
       "      <th></th>\n",
       "      <th>area_px</th>\n",
       "      <th>use_type</th>\n",
       "      <th>object_id</th>\n",
       "      <th>tile_name</th>\n",
       "      <th>area_sqm</th>\n",
       "      <th>cell_id</th>\n",
       "      <th>geometry</th>\n",
       "    </tr>\n",
       "  </thead>\n",
       "  <tbody>\n",
       "    <tr>\n",
       "      <th>0</th>\n",
       "      <td>107</td>\n",
       "      <td>residential</td>\n",
       "      <td>930725_ne_1</td>\n",
       "      <td>930725_ne</td>\n",
       "      <td>7.913764</td>\n",
       "      <td>349</td>\n",
       "      <td>POLYGON ((-72.98939 41.45877, -72.98939 41.458...</td>\n",
       "    </tr>\n",
       "    <tr>\n",
       "      <th>1</th>\n",
       "      <td>19</td>\n",
       "      <td>residential</td>\n",
       "      <td>930725_ne_1</td>\n",
       "      <td>930725_ne</td>\n",
       "      <td>1.079150</td>\n",
       "      <td>349</td>\n",
       "      <td>POLYGON ((-72.98938 41.45875, -72.98937 41.458...</td>\n",
       "    </tr>\n",
       "    <tr>\n",
       "      <th>2</th>\n",
       "      <td>466</td>\n",
       "      <td>residential</td>\n",
       "      <td>935720_ne_1</td>\n",
       "      <td>935720_ne</td>\n",
       "      <td>37.275627</td>\n",
       "      <td>349</td>\n",
       "      <td>POLYGON ((-72.97203 41.45021, -72.97203 41.450...</td>\n",
       "    </tr>\n",
       "    <tr>\n",
       "      <th>3</th>\n",
       "      <td>169</td>\n",
       "      <td>residential</td>\n",
       "      <td>930730_sw_1</td>\n",
       "      <td>930730_sw</td>\n",
       "      <td>12.859867</td>\n",
       "      <td>349</td>\n",
       "      <td>POLYGON ((-72.99925 41.47044, -72.99925 41.470...</td>\n",
       "    </tr>\n",
       "    <tr>\n",
       "      <th>4</th>\n",
       "      <td>499</td>\n",
       "      <td>residential</td>\n",
       "      <td>930720_ne_1</td>\n",
       "      <td>930720_ne</td>\n",
       "      <td>39.029245</td>\n",
       "      <td>349</td>\n",
       "      <td>POLYGON ((-72.99294 41.44947, -72.99293 41.449...</td>\n",
       "    </tr>\n",
       "  </tbody>\n",
       "</table>\n",
       "</div>"
      ],
      "text/plain": [
       "   area_px     use_type    object_id  tile_name   area_sqm cell_id  \\\n",
       "0      107  residential  930725_ne_1  930725_ne   7.913764     349   \n",
       "1       19  residential  930725_ne_1  930725_ne   1.079150     349   \n",
       "2      466  residential  935720_ne_1  935720_ne  37.275627     349   \n",
       "3      169  residential  930730_sw_1  930730_sw  12.859867     349   \n",
       "4      499  residential  930720_ne_1  930720_ne  39.029245     349   \n",
       "\n",
       "                                            geometry  \n",
       "0  POLYGON ((-72.98939 41.45877, -72.98939 41.458...  \n",
       "1  POLYGON ((-72.98938 41.45875, -72.98937 41.458...  \n",
       "2  POLYGON ((-72.97203 41.45021, -72.97203 41.450...  \n",
       "3  POLYGON ((-72.99925 41.47044, -72.99925 41.470...  \n",
       "4  POLYGON ((-72.99294 41.44947, -72.99293 41.449...  "
      ]
     },
     "execution_count": 62,
     "metadata": {},
     "output_type": "execute_result"
    }
   ],
   "source": [
    "grid_intersection.head()"
   ]
  },
  {
   "cell_type": "code",
   "execution_count": 61,
   "metadata": {},
   "outputs": [
    {
     "data": {
      "text/plain": [
       "<AxesSubplot:>"
      ]
     },
     "execution_count": 61,
     "metadata": {},
     "output_type": "execute_result"
    },
    {
     "data": {
      "image/png": "[encoded data removed]",
      "text/plain": [
       "<Figure size 432x288 with 1 Axes>"
      ]
     },
     "metadata": {
      "needs_background": "light"
     },
     "output_type": "display_data"
    }
   ],
   "source": [
    "grid_intersection = gpd.overlay(polygons, ct_state_grid, how='intersection')\n",
    "ct_panel_area_grid = grid_intersection.query('use_type == \"residential\"').groupby('cell_id').sum()\n",
    "ct_panel_area_grid = ct_panel_area_grid.join(\n",
    "    ct_state_grid.set_index('cell_id'), how='left'\n",
    ")\n",
    "ct_panel_area_grid.plot(column='area_sqm')"
   ]
  }
 ],
 "metadata": {
  "interpreter": {
   "hash": "0de2cf94ec856174ba507de7f59527ab479cbdcf61243b2ac4349a520774067e"
  },
  "kernelspec": {
   "display_name": "Python 3.8.11 64-bit ('pt181': conda)",
   "language": "python",
   "name": "python3"
  },
  "language_info": {
   "codemirror_mode": {
    "name": "ipython",
    "version": 3
   },
   "file_extension": ".py",
   "mimetype": "text/x-python",
   "name": "python",
   "nbconvert_exporter": "python",
   "pygments_lexer": "ipython3",
   "version": "3.8.11"
  },
  "orig_nbformat": 4
 },
 "nbformat": 4,
 "nbformat_minor": 2
}
