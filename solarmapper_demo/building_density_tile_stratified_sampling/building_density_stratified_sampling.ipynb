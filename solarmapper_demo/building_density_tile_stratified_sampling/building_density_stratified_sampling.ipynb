{
 "cells": [
  {
   "cell_type": "code",
   "execution_count": 10,
   "metadata": {},
   "outputs": [],
   "source": [
    "from pathlib import Path\n",
    "\n",
    "import geopandas as gpd\n",
    "import pandas as pd\n",
    "import matplotlib.pyplot as plt\n",
    "plt.rcParams['font.family'] = 'serif'\n",
    "plt.rcParams['font.serif'] = ['Times New Roman'] + plt.rcParams['font.serif']"
   ]
  },
  {
   "cell_type": "markdown",
   "metadata": {},
   "source": [
    "## Read datasets\n",
    "1. Read the Connecticut building geospatial dataset provided through [Microsoft's US Building Footprints dataset](https://usbuildingdata.blob.core.windows.net/usbuildings-v2/Connecticut.geojson.zip). The dataset is not included in the repo and can be downloaded [here](https://usbuildingdata.blob.core.windows.net/usbuildings-v2/Connecticut.geojson.zip) (324 MiB)"
   ]
  },
  {
   "cell_type": "code",
   "execution_count": 2,
   "metadata": {},
   "outputs": [],
   "source": [
    "ct_buildings = gpd.read_file('shapefiles/Connecticut.geojson')"
   ]
  },
  {
   "cell_type": "markdown",
   "metadata": {},
   "source": [
    "Each row of the dataset is a geospatial polygon which outlines a building."
   ]
  },
  {
   "cell_type": "code",
   "execution_count": 24,
   "metadata": {},
   "outputs": [
    {
     "data": {
      "text/html": [
       "<div>\n",
       "<style scoped>\n",
       "    .dataframe tbody tr th:only-of-type {\n",
       "        vertical-align: middle;\n",
       "    }\n",
       "\n",
       "    .dataframe tbody tr th {\n",
       "        vertical-align: top;\n",
       "    }\n",
       "\n",
       "    .dataframe thead th {\n",
       "        text-align: right;\n",
       "    }\n",
       "</style>\n",
       "<table border=\"1\" class=\"dataframe\">\n",
       "  <thead>\n",
       "    <tr style=\"text-align: right;\">\n",
       "      <th></th>\n",
       "      <th>release</th>\n",
       "      <th>capture_dates_range</th>\n",
       "      <th>geometry</th>\n",
       "    </tr>\n",
       "  </thead>\n",
       "  <tbody>\n",
       "    <tr>\n",
       "      <th>0</th>\n",
       "      <td>1</td>\n",
       "      <td></td>\n",
       "      <td>POLYGON ((-71.78189 41.63973, -71.78203 41.639...</td>\n",
       "    </tr>\n",
       "    <tr>\n",
       "      <th>1</th>\n",
       "      <td>1</td>\n",
       "      <td></td>\n",
       "      <td>POLYGON ((-71.78402 41.62289, -71.78398 41.622...</td>\n",
       "    </tr>\n",
       "    <tr>\n",
       "      <th>2</th>\n",
       "      <td>1</td>\n",
       "      <td></td>\n",
       "      <td>POLYGON ((-71.78402 41.70014, -71.78396 41.700...</td>\n",
       "    </tr>\n",
       "    <tr>\n",
       "      <th>3</th>\n",
       "      <td>1</td>\n",
       "      <td></td>\n",
       "      <td>POLYGON ((-71.78407 41.69986, -71.78411 41.699...</td>\n",
       "    </tr>\n",
       "    <tr>\n",
       "      <th>4</th>\n",
       "      <td>1</td>\n",
       "      <td></td>\n",
       "      <td>POLYGON ((-71.78621 41.63769, -71.78610 41.637...</td>\n",
       "    </tr>\n",
       "  </tbody>\n",
       "</table>\n",
       "</div>"
      ],
      "text/plain": [
       "   release capture_dates_range  \\\n",
       "0        1                       \n",
       "1        1                       \n",
       "2        1                       \n",
       "3        1                       \n",
       "4        1                       \n",
       "\n",
       "                                            geometry  \n",
       "0  POLYGON ((-71.78189 41.63973, -71.78203 41.639...  \n",
       "1  POLYGON ((-71.78402 41.62289, -71.78398 41.622...  \n",
       "2  POLYGON ((-71.78402 41.70014, -71.78396 41.700...  \n",
       "3  POLYGON ((-71.78407 41.69986, -71.78411 41.699...  \n",
       "4  POLYGON ((-71.78621 41.63769, -71.78610 41.637...  "
      ]
     },
     "execution_count": 24,
     "metadata": {},
     "output_type": "execute_result"
    }
   ],
   "source": [
    "ct_buildings.head()"
   ]
  },
  {
   "cell_type": "code",
   "execution_count": 20,
   "metadata": {},
   "outputs": [
    {
     "data": {
      "image/svg+xml": "<svg xmlns=\"http://www.w3.org/2000/svg\" xmlns:xlink=\"http://www.w3.org/1999/xlink\" width=\"100.0\" height=\"100.0\" viewBox=\"-71.78203515999999 41.63958984 0.0001933199999939461 0.0001503200000030347\" preserveAspectRatio=\"xMinYMin meet\"><g transform=\"matrix(1,0,0,-1,0,83.27933)\"><path fill-rule=\"evenodd\" fill=\"#66cc99\" stroke=\"#555555\" stroke-width=\"3.8663999998789225e-06\" opacity=\"0.6\" d=\"M -71.781893,41.639733 L -71.782028,41.6397 L -71.781984,41.639597 L -71.781849,41.639629 L -71.781893,41.639733 z\" /></g></svg>",
      "text/plain": [
       "<shapely.geometry.polygon.Polygon at 0x234c32be520>"
      ]
     },
     "execution_count": 20,
     "metadata": {},
     "output_type": "execute_result"
    }
   ],
   "source": [
    "ct_buildings['geometry'][0]"
   ]
  },
  {
   "cell_type": "markdown",
   "metadata": {},
   "source": [
    "The dataset records over 1 million buildings throughout the state of Connecticut."
   ]
  },
  {
   "cell_type": "code",
   "execution_count": 14,
   "metadata": {},
   "outputs": [
    {
     "data": {
      "text/plain": [
       "1215624"
      ]
     },
     "execution_count": 14,
     "metadata": {},
     "output_type": "execute_result"
    }
   ],
   "source": [
    "len(ct_buildings)"
   ]
  },
  {
   "cell_type": "markdown",
   "metadata": {},
   "source": [
    "2. Read the CSV file which contains the mapping of tile names and their train/valid splits. This is not included in the repo and can be downloaded [here](https://figshare.com/articles/dataset/Connecticut_Solar_PV_Semantic_Segmentation_Dataset/18982199?file=33806243) (1.78 KB)."
   ]
  },
  {
   "cell_type": "code",
   "execution_count": 21,
   "metadata": {},
   "outputs": [],
   "source": [
    "tile_list = pd.read_csv('ct_data/all_ct_labeled/tile_assignments.csv')"
   ]
  },
  {
   "cell_type": "code",
   "execution_count": 23,
   "metadata": {},
   "outputs": [
    {
     "data": {
      "text/html": [
       "<div>\n",
       "<style scoped>\n",
       "    .dataframe tbody tr th:only-of-type {\n",
       "        vertical-align: middle;\n",
       "    }\n",
       "\n",
       "    .dataframe tbody tr th {\n",
       "        vertical-align: top;\n",
       "    }\n",
       "\n",
       "    .dataframe thead th {\n",
       "        text-align: right;\n",
       "    }\n",
       "</style>\n",
       "<table border=\"1\" class=\"dataframe\">\n",
       "  <thead>\n",
       "    <tr style=\"text-align: right;\">\n",
       "      <th></th>\n",
       "      <th>tile_name</th>\n",
       "      <th>training_split</th>\n",
       "      <th>density_split</th>\n",
       "    </tr>\n",
       "  </thead>\n",
       "  <tbody>\n",
       "    <tr>\n",
       "      <th>0</th>\n",
       "      <td>975745_sw</td>\n",
       "      <td>train</td>\n",
       "      <td>NaN</td>\n",
       "    </tr>\n",
       "    <tr>\n",
       "      <th>1</th>\n",
       "      <td>185895_se</td>\n",
       "      <td>train</td>\n",
       "      <td>NaN</td>\n",
       "    </tr>\n",
       "    <tr>\n",
       "      <th>2</th>\n",
       "      <td>205770_ne</td>\n",
       "      <td>train</td>\n",
       "      <td>NaN</td>\n",
       "    </tr>\n",
       "    <tr>\n",
       "      <th>3</th>\n",
       "      <td>075860_sw</td>\n",
       "      <td>train</td>\n",
       "      <td>NaN</td>\n",
       "    </tr>\n",
       "    <tr>\n",
       "      <th>4</th>\n",
       "      <td>015750_sw</td>\n",
       "      <td>train</td>\n",
       "      <td>NaN</td>\n",
       "    </tr>\n",
       "  </tbody>\n",
       "</table>\n",
       "</div>"
      ],
      "text/plain": [
       "   tile_name training_split density_split\n",
       "0  975745_sw          train           NaN\n",
       "1  185895_se          train           NaN\n",
       "2  205770_ne          train           NaN\n",
       "3  075860_sw          train           NaN\n",
       "4  015750_sw          train           NaN"
      ]
     },
     "execution_count": 23,
     "metadata": {},
     "output_type": "execute_result"
    }
   ],
   "source": [
    "tile_list.head()"
   ]
  },
  {
   "cell_type": "code",
   "execution_count": 28,
   "metadata": {},
   "outputs": [],
   "source": [
    "tile_training_split_dict = dict(zip(tile_list['tile_name'], tile_list['training_split']))"
   ]
  },
  {
   "cell_type": "markdown",
   "metadata": {},
   "source": [
    "3. Read the geospatial records of the boundaries of our manually annotated tiles in Connecticut. This is not included in the repo and can be downloaded [here](https://figshare.com/articles/dataset/Connecticut_Solar_PV_Semantic_Segmentation_Dataset/18982199?file=33904298) (167.96 KB)."
   ]
  },
  {
   "cell_type": "code",
   "execution_count": 8,
   "metadata": {},
   "outputs": [],
   "source": [
    "ct_labels = gpd.read_file('ct_labeled_tile_boundaries_gcs.geojson')\n",
    "ct_labels = ct_labels.to_crs('epsg:4326')"
   ]
  },
  {
   "cell_type": "code",
   "execution_count": 13,
   "metadata": {},
   "outputs": [
    {
     "data": {
      "text/html": [
       "<div>\n",
       "<style scoped>\n",
       "    .dataframe tbody tr th:only-of-type {\n",
       "        vertical-align: middle;\n",
       "    }\n",
       "\n",
       "    .dataframe tbody tr th {\n",
       "        vertical-align: top;\n",
       "    }\n",
       "\n",
       "    .dataframe thead th {\n",
       "        text-align: right;\n",
       "    }\n",
       "</style>\n",
       "<table border=\"1\" class=\"dataframe\">\n",
       "  <thead>\n",
       "    <tr style=\"text-align: right;\">\n",
       "      <th></th>\n",
       "      <th>GM_LAYER</th>\n",
       "      <th>GM_TYPE</th>\n",
       "      <th>NAME</th>\n",
       "      <th>LAYER</th>\n",
       "      <th>MAP_NAME</th>\n",
       "      <th>FILENAME</th>\n",
       "      <th>DESCRIPTIO</th>\n",
       "      <th>UPPER_LE_X</th>\n",
       "      <th>UPPER_LE_Y</th>\n",
       "      <th>LOWER_RI_X</th>\n",
       "      <th>...</th>\n",
       "      <th>PIXEL_SCAL</th>\n",
       "      <th>TIEPOINTS</th>\n",
       "      <th>MODEL_TYPE</th>\n",
       "      <th>RASTER_TYP</th>\n",
       "      <th>Shape_Leng</th>\n",
       "      <th>Shape_Area</th>\n",
       "      <th>tile_name</th>\n",
       "      <th>housing_units</th>\n",
       "      <th>population</th>\n",
       "      <th>geometry</th>\n",
       "    </tr>\n",
       "  </thead>\n",
       "  <tbody>\n",
       "    <tr>\n",
       "      <th>0</th>\n",
       "      <td>Coverage/Quad</td>\n",
       "      <td>Coverage/Quad</td>\n",
       "      <td>995820_ne.tif</td>\n",
       "      <td>Coverage/Quad</td>\n",
       "      <td>shape-1.shp</td>\n",
       "      <td>S:\\0000\\TEST\\995820_ne.tif</td>\n",
       "      <td>995820_ne.tif</td>\n",
       "      <td>997500.00</td>\n",
       "      <td>825000.00</td>\n",
       "      <td>1000000.00</td>\n",
       "      <td>...</td>\n",
       "      <td>( 20, 20, 0 )</td>\n",
       "      <td>( 0.00, 0.00, 0.00 ) --&gt; ( 997510.00, 824990.0...</td>\n",
       "      <td>Projection Coordinate System</td>\n",
       "      <td>Pixel is Point</td>\n",
       "      <td>10000.0</td>\n",
       "      <td>6250000.0</td>\n",
       "      <td>995820_ne</td>\n",
       "      <td>718.0</td>\n",
       "      <td>1750.0</td>\n",
       "      <td>POLYGON ((-72.75916 41.72530, -72.75000 41.725...</td>\n",
       "    </tr>\n",
       "    <tr>\n",
       "      <th>1</th>\n",
       "      <td>Coverage/Quad</td>\n",
       "      <td>Coverage/Quad</td>\n",
       "      <td>990755_nw.tif</td>\n",
       "      <td>Coverage/Quad</td>\n",
       "      <td>shape-1.shp</td>\n",
       "      <td>S:\\0000\\TEST\\990755_nw.tif</td>\n",
       "      <td>990755_nw.tif</td>\n",
       "      <td>990000.00</td>\n",
       "      <td>760000.00</td>\n",
       "      <td>992500.00</td>\n",
       "      <td>...</td>\n",
       "      <td>( 20, 20, 0 )</td>\n",
       "      <td>( 0.00, 0.00, 0.00 ) --&gt; ( 990010.00, 759990.0...</td>\n",
       "      <td>Projection Coordinate System</td>\n",
       "      <td>Pixel is Point</td>\n",
       "      <td>10000.0</td>\n",
       "      <td>6250000.0</td>\n",
       "      <td>990755_nw</td>\n",
       "      <td>955.0</td>\n",
       "      <td>2540.0</td>\n",
       "      <td>POLYGON ((-72.78653 41.54691, -72.77740 41.546...</td>\n",
       "    </tr>\n",
       "    <tr>\n",
       "      <th>2</th>\n",
       "      <td>Coverage/Quad</td>\n",
       "      <td>Coverage/Quad</td>\n",
       "      <td>980760_sw.tif</td>\n",
       "      <td>Coverage/Quad</td>\n",
       "      <td>shape-1.shp</td>\n",
       "      <td>S:\\0000\\TEST\\980760_sw.tif</td>\n",
       "      <td>980760_sw.tif</td>\n",
       "      <td>980000.00</td>\n",
       "      <td>762500.00</td>\n",
       "      <td>982500.00</td>\n",
       "      <td>...</td>\n",
       "      <td>( 20, 20, 0 )</td>\n",
       "      <td>( 0.00, 0.00, 0.00 ) --&gt; ( 980010.00, 762490.0...</td>\n",
       "      <td>Projection Coordinate System</td>\n",
       "      <td>Pixel is Point</td>\n",
       "      <td>10000.0</td>\n",
       "      <td>6250000.0</td>\n",
       "      <td>980760_sw</td>\n",
       "      <td>404.0</td>\n",
       "      <td>810.0</td>\n",
       "      <td>POLYGON ((-72.82307 41.55375, -72.81394 41.553...</td>\n",
       "    </tr>\n",
       "  </tbody>\n",
       "</table>\n",
       "<p>3 rows × 54 columns</p>\n",
       "</div>"
      ],
      "text/plain": [
       "        GM_LAYER        GM_TYPE           NAME          LAYER     MAP_NAME  \\\n",
       "0  Coverage/Quad  Coverage/Quad  995820_ne.tif  Coverage/Quad  shape-1.shp   \n",
       "1  Coverage/Quad  Coverage/Quad  990755_nw.tif  Coverage/Quad  shape-1.shp   \n",
       "2  Coverage/Quad  Coverage/Quad  980760_sw.tif  Coverage/Quad  shape-1.shp   \n",
       "\n",
       "                     FILENAME     DESCRIPTIO UPPER_LE_X UPPER_LE_Y  \\\n",
       "0  S:\\0000\\TEST\\995820_ne.tif  995820_ne.tif  997500.00  825000.00   \n",
       "1  S:\\0000\\TEST\\990755_nw.tif  990755_nw.tif  990000.00  760000.00   \n",
       "2  S:\\0000\\TEST\\980760_sw.tif  980760_sw.tif  980000.00  762500.00   \n",
       "\n",
       "   LOWER_RI_X  ...     PIXEL_SCAL  \\\n",
       "0  1000000.00  ...  ( 20, 20, 0 )   \n",
       "1   992500.00  ...  ( 20, 20, 0 )   \n",
       "2   982500.00  ...  ( 20, 20, 0 )   \n",
       "\n",
       "                                           TIEPOINTS  \\\n",
       "0  ( 0.00, 0.00, 0.00 ) --> ( 997510.00, 824990.0...   \n",
       "1  ( 0.00, 0.00, 0.00 ) --> ( 990010.00, 759990.0...   \n",
       "2  ( 0.00, 0.00, 0.00 ) --> ( 980010.00, 762490.0...   \n",
       "\n",
       "                     MODEL_TYPE      RASTER_TYP Shape_Leng Shape_Area  \\\n",
       "0  Projection Coordinate System  Pixel is Point    10000.0  6250000.0   \n",
       "1  Projection Coordinate System  Pixel is Point    10000.0  6250000.0   \n",
       "2  Projection Coordinate System  Pixel is Point    10000.0  6250000.0   \n",
       "\n",
       "   tile_name housing_units population  \\\n",
       "0  995820_ne         718.0     1750.0   \n",
       "1  990755_nw         955.0     2540.0   \n",
       "2  980760_sw         404.0      810.0   \n",
       "\n",
       "                                            geometry  \n",
       "0  POLYGON ((-72.75916 41.72530, -72.75000 41.725...  \n",
       "1  POLYGON ((-72.78653 41.54691, -72.77740 41.546...  \n",
       "2  POLYGON ((-72.82307 41.55375, -72.81394 41.553...  \n",
       "\n",
       "[3 rows x 54 columns]"
      ]
     },
     "execution_count": 13,
     "metadata": {},
     "output_type": "execute_result"
    }
   ],
   "source": [
    "ct_labels.head(3)"
   ]
  },
  {
   "cell_type": "code",
   "execution_count": 25,
   "metadata": {},
   "outputs": [
    {
     "data": {
      "text/plain": [
       "Index(['GM_LAYER', 'GM_TYPE', 'NAME', 'LAYER', 'MAP_NAME', 'FILENAME',\n",
       "       'DESCRIPTIO', 'UPPER_LE_X', 'UPPER_LE_Y', 'LOWER_RI_X', 'LOWER_RI_Y',\n",
       "       'WEST_LONGI', 'NORTH_LATI', 'EAST_LONGI', 'SOUTH_LATI', 'UL_CORNER_',\n",
       "       'UL_CORNER1', 'UR_CORNER_', 'UR_CORNER1', 'LR_CORNER_', 'LR_CORNER1',\n",
       "       'LL_CORNER_', 'LL_CORNER1', 'PROJ_DESC', 'PROJ_DATUM', 'PROJ_UNITS',\n",
       "       'EPSG_CODE', 'COVERED_AR', 'LOAD_TIME', 'NUM_COLUMN', 'NUM_ROWS',\n",
       "       'NUM_BANDS', 'COLOR_BAND', 'PIXEL_WIDT', 'PIXEL_HEIG', 'BIT_DEPTH',\n",
       "       'SAMPLE_TYP', 'PCS_CITATI', 'PHOTOMETRI', 'BIT_DEPTH1', 'SAMPLE_FOR',\n",
       "       'TILE_WIDTH', 'TILE_HEIGH', 'COMPRESSIO', 'PIXEL_SCAL', 'TIEPOINTS',\n",
       "       'MODEL_TYPE', 'RASTER_TYP', 'Shape_Leng', 'Shape_Area', 'tile_name',\n",
       "       'housing_units', 'population', 'geometry'],\n",
       "      dtype='object')"
      ]
     },
     "execution_count": 25,
     "metadata": {},
     "output_type": "execute_result"
    }
   ],
   "source": [
    "ct_labels.columns"
   ]
  },
  {
   "cell_type": "markdown",
   "metadata": {},
   "source": [
    "Add a column to the dataframe showing whether a tile is in the training or validation set."
   ]
  },
  {
   "cell_type": "code",
   "execution_count": 29,
   "metadata": {},
   "outputs": [],
   "source": [
    "ct_labels['training_split'] = ct_labels['tile_name'].map(tile_training_split_dict)"
   ]
  },
  {
   "cell_type": "markdown",
   "metadata": {},
   "source": [
    "Select columns useful for this analysis."
   ]
  },
  {
   "cell_type": "code",
   "execution_count": 30,
   "metadata": {},
   "outputs": [],
   "source": [
    "ct_labels_skim = ct_labels[['tile_name', 'training_split', 'geometry']]"
   ]
  },
  {
   "cell_type": "code",
   "execution_count": 31,
   "metadata": {},
   "outputs": [
    {
     "data": {
      "text/html": [
       "<div>\n",
       "<style scoped>\n",
       "    .dataframe tbody tr th:only-of-type {\n",
       "        vertical-align: middle;\n",
       "    }\n",
       "\n",
       "    .dataframe tbody tr th {\n",
       "        vertical-align: top;\n",
       "    }\n",
       "\n",
       "    .dataframe thead th {\n",
       "        text-align: right;\n",
       "    }\n",
       "</style>\n",
       "<table border=\"1\" class=\"dataframe\">\n",
       "  <thead>\n",
       "    <tr style=\"text-align: right;\">\n",
       "      <th></th>\n",
       "      <th>tile_name</th>\n",
       "      <th>training_split</th>\n",
       "      <th>geometry</th>\n",
       "    </tr>\n",
       "  </thead>\n",
       "  <tbody>\n",
       "    <tr>\n",
       "      <th>0</th>\n",
       "      <td>995820_ne</td>\n",
       "      <td>valid</td>\n",
       "      <td>POLYGON ((-72.75916 41.72530, -72.75000 41.725...</td>\n",
       "    </tr>\n",
       "    <tr>\n",
       "      <th>1</th>\n",
       "      <td>990755_nw</td>\n",
       "      <td>valid</td>\n",
       "      <td>POLYGON ((-72.78653 41.54691, -72.77740 41.546...</td>\n",
       "    </tr>\n",
       "    <tr>\n",
       "      <th>2</th>\n",
       "      <td>980760_sw</td>\n",
       "      <td>train</td>\n",
       "      <td>POLYGON ((-72.82307 41.55375, -72.81394 41.553...</td>\n",
       "    </tr>\n",
       "    <tr>\n",
       "      <th>3</th>\n",
       "      <td>975745_sw</td>\n",
       "      <td>train</td>\n",
       "      <td>POLYGON ((-72.84128 41.51257, -72.83215 41.512...</td>\n",
       "    </tr>\n",
       "    <tr>\n",
       "      <th>4</th>\n",
       "      <td>965765_nw</td>\n",
       "      <td>train</td>\n",
       "      <td>POLYGON ((-72.87792 41.57429, -72.86878 41.574...</td>\n",
       "    </tr>\n",
       "  </tbody>\n",
       "</table>\n",
       "</div>"
      ],
      "text/plain": [
       "   tile_name training_split                                           geometry\n",
       "0  995820_ne          valid  POLYGON ((-72.75916 41.72530, -72.75000 41.725...\n",
       "1  990755_nw          valid  POLYGON ((-72.78653 41.54691, -72.77740 41.546...\n",
       "2  980760_sw          train  POLYGON ((-72.82307 41.55375, -72.81394 41.553...\n",
       "3  975745_sw          train  POLYGON ((-72.84128 41.51257, -72.83215 41.512...\n",
       "4  965765_nw          train  POLYGON ((-72.87792 41.57429, -72.86878 41.574..."
      ]
     },
     "execution_count": 31,
     "metadata": {},
     "output_type": "execute_result"
    }
   ],
   "source": [
    "ct_labels_skim.head()"
   ]
  },
  {
   "cell_type": "markdown",
   "metadata": {},
   "source": [
    "4. Geospatially join the building polygons and tile boundaries, so we can get the buidling polygons within each tile."
   ]
  },
  {
   "cell_type": "code",
   "execution_count": 33,
   "metadata": {},
   "outputs": [],
   "source": [
    "buildings_by_tile = gpd.overlay(ct_labels_skim, ct_buildings, how='intersection',)"
   ]
  },
  {
   "cell_type": "code",
   "execution_count": 34,
   "metadata": {},
   "outputs": [
    {
     "data": {
      "text/html": [
       "<div>\n",
       "<style scoped>\n",
       "    .dataframe tbody tr th:only-of-type {\n",
       "        vertical-align: middle;\n",
       "    }\n",
       "\n",
       "    .dataframe tbody tr th {\n",
       "        vertical-align: top;\n",
       "    }\n",
       "\n",
       "    .dataframe thead th {\n",
       "        text-align: right;\n",
       "    }\n",
       "</style>\n",
       "<table border=\"1\" class=\"dataframe\">\n",
       "  <thead>\n",
       "    <tr style=\"text-align: right;\">\n",
       "      <th></th>\n",
       "      <th>tile_name</th>\n",
       "      <th>training_split</th>\n",
       "      <th>release</th>\n",
       "      <th>capture_dates_range</th>\n",
       "      <th>geometry</th>\n",
       "    </tr>\n",
       "  </thead>\n",
       "  <tbody>\n",
       "    <tr>\n",
       "      <th>0</th>\n",
       "      <td>995820_ne</td>\n",
       "      <td>valid</td>\n",
       "      <td>2</td>\n",
       "      <td>7/15/2019-8/29/2019</td>\n",
       "      <td>POLYGON ((-72.75000 41.72070, -72.75002 41.720...</td>\n",
       "    </tr>\n",
       "    <tr>\n",
       "      <th>1</th>\n",
       "      <td>995820_ne</td>\n",
       "      <td>valid</td>\n",
       "      <td>2</td>\n",
       "      <td>7/15/2019-8/29/2019</td>\n",
       "      <td>POLYGON ((-72.75000 41.71959, -72.75018 41.719...</td>\n",
       "    </tr>\n",
       "    <tr>\n",
       "      <th>2</th>\n",
       "      <td>995820_ne</td>\n",
       "      <td>valid</td>\n",
       "      <td>2</td>\n",
       "      <td>7/15/2019-8/29/2019</td>\n",
       "      <td>POLYGON ((-72.75458 41.71916, -72.75458 41.719...</td>\n",
       "    </tr>\n",
       "    <tr>\n",
       "      <th>3</th>\n",
       "      <td>995820_ne</td>\n",
       "      <td>valid</td>\n",
       "      <td>2</td>\n",
       "      <td>7/15/2019-8/29/2019</td>\n",
       "      <td>POLYGON ((-72.75532 41.72363, -72.75521 41.723...</td>\n",
       "    </tr>\n",
       "    <tr>\n",
       "      <th>4</th>\n",
       "      <td>995820_ne</td>\n",
       "      <td>valid</td>\n",
       "      <td>2</td>\n",
       "      <td>7/15/2019-8/29/2019</td>\n",
       "      <td>POLYGON ((-72.75620 41.72062, -72.75622 41.720...</td>\n",
       "    </tr>\n",
       "  </tbody>\n",
       "</table>\n",
       "</div>"
      ],
      "text/plain": [
       "   tile_name training_split  release  capture_dates_range  \\\n",
       "0  995820_ne          valid        2  7/15/2019-8/29/2019   \n",
       "1  995820_ne          valid        2  7/15/2019-8/29/2019   \n",
       "2  995820_ne          valid        2  7/15/2019-8/29/2019   \n",
       "3  995820_ne          valid        2  7/15/2019-8/29/2019   \n",
       "4  995820_ne          valid        2  7/15/2019-8/29/2019   \n",
       "\n",
       "                                            geometry  \n",
       "0  POLYGON ((-72.75000 41.72070, -72.75002 41.720...  \n",
       "1  POLYGON ((-72.75000 41.71959, -72.75018 41.719...  \n",
       "2  POLYGON ((-72.75458 41.71916, -72.75458 41.719...  \n",
       "3  POLYGON ((-72.75532 41.72363, -72.75521 41.723...  \n",
       "4  POLYGON ((-72.75620 41.72062, -72.75622 41.720...  "
      ]
     },
     "execution_count": 34,
     "metadata": {},
     "output_type": "execute_result"
    }
   ],
   "source": [
    "buildings_by_tile.head()"
   ]
  },
  {
   "cell_type": "markdown",
   "metadata": {},
   "source": [
    "5. Count the number of buildings within each validation tile."
   ]
  },
  {
   "cell_type": "code",
   "execution_count": 36,
   "metadata": {},
   "outputs": [],
   "source": [
    "building_counts_by_valid_tile = buildings_by_tile.query('training_split == \"valid\"')\\\n",
    "    .groupby('tile_name')['geometry'].count()"
   ]
  },
  {
   "cell_type": "code",
   "execution_count": 37,
   "metadata": {},
   "outputs": [
    {
     "data": {
      "text/plain": [
       "tile_name\n",
       "000795_sw     35\n",
       "045825_nw    344\n",
       "080870_nw    250\n",
       "080905_nw     10\n",
       "080910_sw     28\n",
       "Name: geometry, dtype: int64"
      ]
     },
     "execution_count": 37,
     "metadata": {},
     "output_type": "execute_result"
    }
   ],
   "source": [
    "building_counts_by_valid_tile.head()"
   ]
  },
  {
   "cell_type": "markdown",
   "metadata": {},
   "source": [
    "6. Get the distribution and descriptive statistics of the number of buildings by validation tiles."
   ]
  },
  {
   "cell_type": "code",
   "execution_count": 44,
   "metadata": {},
   "outputs": [
    {
     "data": {
      "image/png": "[encoded data removed]",
      "text/plain": [
       "<Figure size 576x432 with 1 Axes>"
      ]
     },
     "metadata": {
      "needs_background": "light"
     },
     "output_type": "display_data"
    }
   ],
   "source": [
    "building_counts_by_valid_tile.hist(figsize=(8, 6))\n",
    "plt.xlabel('Number of buildings by validation tile')\n",
    "plt.ylabel('Number of validation tiles')\n",
    "plt.tight_layout()\n",
    "plt.show()"
   ]
  },
  {
   "cell_type": "code",
   "execution_count": 42,
   "metadata": {},
   "outputs": [
    {
     "data": {
      "text/plain": [
       "count     30.000000\n",
       "mean     262.500000\n",
       "std      188.299605\n",
       "min       10.000000\n",
       "25%       86.500000\n",
       "50%      268.000000\n",
       "75%      402.000000\n",
       "max      620.000000\n",
       "Name: geometry, dtype: float64"
      ]
     },
     "execution_count": 42,
     "metadata": {},
     "output_type": "execute_result"
    }
   ],
   "source": [
    "building_counts_by_valid_tile.describe()"
   ]
  }
 ],
 "metadata": {
  "interpreter": {
   "hash": "0866f21a6f536d3b818793ebb869dad57a6f0a84e6075178b04b2bfeaace776d"
  },
  "kernelspec": {
   "display_name": "Python 3.9.2 64-bit ('geo_env': conda)",
   "language": "python",
   "name": "python3"
  },
  "language_info": {
   "codemirror_mode": {
    "name": "ipython",
    "version": 3
   },
   "file_extension": ".py",
   "mimetype": "text/x-python",
   "name": "python",
   "nbconvert_exporter": "python",
   "pygments_lexer": "ipython3",
   "version": "3.8.11"
  },
  "orig_nbformat": 4
 },
 "nbformat": 4,
 "nbformat_minor": 2
}
