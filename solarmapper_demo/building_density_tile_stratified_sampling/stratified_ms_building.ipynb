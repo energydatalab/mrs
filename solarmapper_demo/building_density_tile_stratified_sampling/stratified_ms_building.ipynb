{
 "cells": [
  {
   "cell_type": "code",
   "execution_count": 56,
   "metadata": {},
   "outputs": [],
   "source": [
    "from pathlib import Path\n",
    "\n",
    "import geopandas as gpd\n",
    "import pandas as pd\n",
    "import numpy as np\n",
    "import matplotlib.pyplot as plt\n",
    "plt.rcParams['font.family'] = 'serif'\n",
    "plt.rcParams['font.serif'] = ['Times New Roman'] + plt.rcParams['font.serif']"
   ]
  },
  {
   "cell_type": "code",
   "execution_count": 26,
   "metadata": {},
   "outputs": [],
   "source": [
    "ct_buildings = gpd.read_file(r'C:\\Users\\wh145\\Documents\\Energy Initiative\\SolarMapper\\solarmapper_paper\\solar_pv_paper\\shapefiles\\Connecticut.geojson')"
   ]
  },
  {
   "cell_type": "code",
   "execution_count": 27,
   "metadata": {},
   "outputs": [
    {
     "data": {
      "text/plain": [
       "<Geographic 2D CRS: EPSG:4326>\n",
       "Name: WGS 84\n",
       "Axis Info [ellipsoidal]:\n",
       "- Lat[north]: Geodetic latitude (degree)\n",
       "- Lon[east]: Geodetic longitude (degree)\n",
       "Area of Use:\n",
       "- name: World.\n",
       "- bounds: (-180.0, -90.0, 180.0, 90.0)\n",
       "Datum: World Geodetic System 1984\n",
       "- Ellipsoid: WGS 84\n",
       "- Prime Meridian: Greenwich"
      ]
     },
     "execution_count": 27,
     "metadata": {},
     "output_type": "execute_result"
    }
   ],
   "source": [
    "ct_buildings.crs"
   ]
  },
  {
   "cell_type": "code",
   "execution_count": 28,
   "metadata": {},
   "outputs": [],
   "source": [
    "ct_buildings['building_area_sqm'] = ct_buildings.to_crs('epsg:26956').area"
   ]
  },
  {
   "cell_type": "code",
   "execution_count": 29,
   "metadata": {},
   "outputs": [
    {
     "data": {
      "text/html": [
       "<div>\n",
       "<style scoped>\n",
       "    .dataframe tbody tr th:only-of-type {\n",
       "        vertical-align: middle;\n",
       "    }\n",
       "\n",
       "    .dataframe tbody tr th {\n",
       "        vertical-align: top;\n",
       "    }\n",
       "\n",
       "    .dataframe thead th {\n",
       "        text-align: right;\n",
       "    }\n",
       "</style>\n",
       "<table border=\"1\" class=\"dataframe\">\n",
       "  <thead>\n",
       "    <tr style=\"text-align: right;\">\n",
       "      <th></th>\n",
       "      <th>release</th>\n",
       "      <th>capture_dates_range</th>\n",
       "      <th>geometry</th>\n",
       "      <th>building_area_sqm</th>\n",
       "    </tr>\n",
       "  </thead>\n",
       "  <tbody>\n",
       "    <tr>\n",
       "      <th>0</th>\n",
       "      <td>1</td>\n",
       "      <td></td>\n",
       "      <td>POLYGON ((-71.78189 41.63973, -71.78203 41.639...</td>\n",
       "      <td>142.525498</td>\n",
       "    </tr>\n",
       "    <tr>\n",
       "      <th>1</th>\n",
       "      <td>1</td>\n",
       "      <td></td>\n",
       "      <td>POLYGON ((-71.78402 41.62289, -71.78398 41.622...</td>\n",
       "      <td>113.545170</td>\n",
       "    </tr>\n",
       "    <tr>\n",
       "      <th>2</th>\n",
       "      <td>1</td>\n",
       "      <td></td>\n",
       "      <td>POLYGON ((-71.78402 41.70014, -71.78396 41.700...</td>\n",
       "      <td>255.339227</td>\n",
       "    </tr>\n",
       "    <tr>\n",
       "      <th>3</th>\n",
       "      <td>1</td>\n",
       "      <td></td>\n",
       "      <td>POLYGON ((-71.78407 41.69986, -71.78411 41.699...</td>\n",
       "      <td>165.668872</td>\n",
       "    </tr>\n",
       "    <tr>\n",
       "      <th>4</th>\n",
       "      <td>1</td>\n",
       "      <td></td>\n",
       "      <td>POLYGON ((-71.78621 41.63769, -71.78610 41.637...</td>\n",
       "      <td>80.007254</td>\n",
       "    </tr>\n",
       "  </tbody>\n",
       "</table>\n",
       "</div>"
      ],
      "text/plain": [
       "   release capture_dates_range  \\\n",
       "0        1                       \n",
       "1        1                       \n",
       "2        1                       \n",
       "3        1                       \n",
       "4        1                       \n",
       "\n",
       "                                            geometry  building_area_sqm  \n",
       "0  POLYGON ((-71.78189 41.63973, -71.78203 41.639...         142.525498  \n",
       "1  POLYGON ((-71.78402 41.62289, -71.78398 41.622...         113.545170  \n",
       "2  POLYGON ((-71.78402 41.70014, -71.78396 41.700...         255.339227  \n",
       "3  POLYGON ((-71.78407 41.69986, -71.78411 41.699...         165.668872  \n",
       "4  POLYGON ((-71.78621 41.63769, -71.78610 41.637...          80.007254  "
      ]
     },
     "execution_count": 29,
     "metadata": {},
     "output_type": "execute_result"
    }
   ],
   "source": [
    "ct_buildings.head()"
   ]
  },
  {
   "cell_type": "code",
   "execution_count": 30,
   "metadata": {},
   "outputs": [],
   "source": [
    "ct_labeled = gpd.read_file(r'C:\\Users\\wh145\\Documents\\Energy Initiative\\SolarMapper\\solarmapper_paper\\solar_pv_paper\\ct_labeled_tile_boundaries_gcs.geojson')\n",
    "ct_labeled = ct_labeled.to_crs('epsg:4326')"
   ]
  },
  {
   "cell_type": "code",
   "execution_count": 31,
   "metadata": {},
   "outputs": [],
   "source": [
    "tile_list_dict = {}\n",
    "tile_list_base = Path(r'ct_data\\all_ct_labeled\\tile_list')\n",
    "\n",
    "for set_name in ['train', 'valid']:\n",
    "    with open(tile_list_base / f'tile_list_{set_name}_non_random.txt', 'r') as f:\n",
    "        tile_list_dict[set_name] = [l.strip('\\n') for l in f.readlines()]"
   ]
  },
  {
   "cell_type": "code",
   "execution_count": 32,
   "metadata": {},
   "outputs": [],
   "source": [
    "ct_labeled = ct_labeled.reset_index()"
   ]
  },
  {
   "cell_type": "code",
   "execution_count": 33,
   "metadata": {},
   "outputs": [
    {
     "data": {
      "text/plain": [
       "Index(['index', 'GM_LAYER', 'GM_TYPE', 'NAME', 'LAYER', 'MAP_NAME', 'FILENAME',\n",
       "       'DESCRIPTIO', 'UPPER_LE_X', 'UPPER_LE_Y', 'LOWER_RI_X', 'LOWER_RI_Y',\n",
       "       'WEST_LONGI', 'NORTH_LATI', 'EAST_LONGI', 'SOUTH_LATI', 'UL_CORNER_',\n",
       "       'UL_CORNER1', 'UR_CORNER_', 'UR_CORNER1', 'LR_CORNER_', 'LR_CORNER1',\n",
       "       'LL_CORNER_', 'LL_CORNER1', 'PROJ_DESC', 'PROJ_DATUM', 'PROJ_UNITS',\n",
       "       'EPSG_CODE', 'COVERED_AR', 'LOAD_TIME', 'NUM_COLUMN', 'NUM_ROWS',\n",
       "       'NUM_BANDS', 'COLOR_BAND', 'PIXEL_WIDT', 'PIXEL_HEIG', 'BIT_DEPTH',\n",
       "       'SAMPLE_TYP', 'PCS_CITATI', 'PHOTOMETRI', 'BIT_DEPTH1', 'SAMPLE_FOR',\n",
       "       'TILE_WIDTH', 'TILE_HEIGH', 'COMPRESSIO', 'PIXEL_SCAL', 'TIEPOINTS',\n",
       "       'MODEL_TYPE', 'RASTER_TYP', 'Shape_Leng', 'Shape_Area', 'tile_name',\n",
       "       'housing_units', 'population', 'geometry'],\n",
       "      dtype='object')"
      ]
     },
     "execution_count": 33,
     "metadata": {},
     "output_type": "execute_result"
    }
   ],
   "source": [
    "ct_labeled.columns"
   ]
  },
  {
   "cell_type": "code",
   "execution_count": 34,
   "metadata": {},
   "outputs": [],
   "source": [
    "dataset = []\n",
    "for tile_name in ct_labeled.tile_name.tolist():\n",
    "    if tile_name in tile_list_dict['train']:\n",
    "        dataset.append('train')\n",
    "    else:\n",
    "        dataset.append('valid')"
   ]
  },
  {
   "cell_type": "code",
   "execution_count": 35,
   "metadata": {},
   "outputs": [],
   "source": [
    "ct_labeled['dataset'] = dataset"
   ]
  },
  {
   "cell_type": "code",
   "execution_count": 36,
   "metadata": {},
   "outputs": [],
   "source": [
    "ct_labeled_skim = ct_labeled[['tile_name', 'housing_units', 'population', 'dataset', 'geometry']]"
   ]
  },
  {
   "cell_type": "code",
   "execution_count": 37,
   "metadata": {},
   "outputs": [
    {
     "data": {
      "text/html": [
       "<div>\n",
       "<style scoped>\n",
       "    .dataframe tbody tr th:only-of-type {\n",
       "        vertical-align: middle;\n",
       "    }\n",
       "\n",
       "    .dataframe tbody tr th {\n",
       "        vertical-align: top;\n",
       "    }\n",
       "\n",
       "    .dataframe thead th {\n",
       "        text-align: right;\n",
       "    }\n",
       "</style>\n",
       "<table border=\"1\" class=\"dataframe\">\n",
       "  <thead>\n",
       "    <tr style=\"text-align: right;\">\n",
       "      <th></th>\n",
       "      <th>release</th>\n",
       "      <th>capture_dates_range</th>\n",
       "      <th>geometry</th>\n",
       "      <th>building_area_sqm</th>\n",
       "    </tr>\n",
       "  </thead>\n",
       "  <tbody>\n",
       "    <tr>\n",
       "      <th>0</th>\n",
       "      <td>1</td>\n",
       "      <td></td>\n",
       "      <td>POLYGON ((-71.78189 41.63973, -71.78203 41.639...</td>\n",
       "      <td>142.525498</td>\n",
       "    </tr>\n",
       "    <tr>\n",
       "      <th>1</th>\n",
       "      <td>1</td>\n",
       "      <td></td>\n",
       "      <td>POLYGON ((-71.78402 41.62289, -71.78398 41.622...</td>\n",
       "      <td>113.545170</td>\n",
       "    </tr>\n",
       "    <tr>\n",
       "      <th>2</th>\n",
       "      <td>1</td>\n",
       "      <td></td>\n",
       "      <td>POLYGON ((-71.78402 41.70014, -71.78396 41.700...</td>\n",
       "      <td>255.339227</td>\n",
       "    </tr>\n",
       "    <tr>\n",
       "      <th>3</th>\n",
       "      <td>1</td>\n",
       "      <td></td>\n",
       "      <td>POLYGON ((-71.78407 41.69986, -71.78411 41.699...</td>\n",
       "      <td>165.668872</td>\n",
       "    </tr>\n",
       "    <tr>\n",
       "      <th>4</th>\n",
       "      <td>1</td>\n",
       "      <td></td>\n",
       "      <td>POLYGON ((-71.78621 41.63769, -71.78610 41.637...</td>\n",
       "      <td>80.007254</td>\n",
       "    </tr>\n",
       "    <tr>\n",
       "      <th>...</th>\n",
       "      <td>...</td>\n",
       "      <td>...</td>\n",
       "      <td>...</td>\n",
       "      <td>...</td>\n",
       "    </tr>\n",
       "    <tr>\n",
       "      <th>1215619</th>\n",
       "      <td>1</td>\n",
       "      <td></td>\n",
       "      <td>POLYGON ((-73.70643 41.08481, -73.70639 41.084...</td>\n",
       "      <td>142.862634</td>\n",
       "    </tr>\n",
       "    <tr>\n",
       "      <th>1215620</th>\n",
       "      <td>1</td>\n",
       "      <td></td>\n",
       "      <td>POLYGON ((-73.70722 41.08370, -73.70703 41.083...</td>\n",
       "      <td>589.582436</td>\n",
       "    </tr>\n",
       "    <tr>\n",
       "      <th>1215621</th>\n",
       "      <td>1</td>\n",
       "      <td></td>\n",
       "      <td>POLYGON ((-73.71246 41.07935, -73.71230 41.079...</td>\n",
       "      <td>113.775154</td>\n",
       "    </tr>\n",
       "    <tr>\n",
       "      <th>1215622</th>\n",
       "      <td>1</td>\n",
       "      <td></td>\n",
       "      <td>POLYGON ((-73.71359 41.09311, -73.71369 41.093...</td>\n",
       "      <td>212.751026</td>\n",
       "    </tr>\n",
       "    <tr>\n",
       "      <th>1215623</th>\n",
       "      <td>1</td>\n",
       "      <td></td>\n",
       "      <td>POLYGON ((-73.73019 41.10040, -73.73014 41.100...</td>\n",
       "      <td>134.749413</td>\n",
       "    </tr>\n",
       "  </tbody>\n",
       "</table>\n",
       "<p>1215624 rows × 4 columns</p>\n",
       "</div>"
      ],
      "text/plain": [
       "         release capture_dates_range  \\\n",
       "0              1                       \n",
       "1              1                       \n",
       "2              1                       \n",
       "3              1                       \n",
       "4              1                       \n",
       "...          ...                 ...   \n",
       "1215619        1                       \n",
       "1215620        1                       \n",
       "1215621        1                       \n",
       "1215622        1                       \n",
       "1215623        1                       \n",
       "\n",
       "                                                  geometry  building_area_sqm  \n",
       "0        POLYGON ((-71.78189 41.63973, -71.78203 41.639...         142.525498  \n",
       "1        POLYGON ((-71.78402 41.62289, -71.78398 41.622...         113.545170  \n",
       "2        POLYGON ((-71.78402 41.70014, -71.78396 41.700...         255.339227  \n",
       "3        POLYGON ((-71.78407 41.69986, -71.78411 41.699...         165.668872  \n",
       "4        POLYGON ((-71.78621 41.63769, -71.78610 41.637...          80.007254  \n",
       "...                                                    ...                ...  \n",
       "1215619  POLYGON ((-73.70643 41.08481, -73.70639 41.084...         142.862634  \n",
       "1215620  POLYGON ((-73.70722 41.08370, -73.70703 41.083...         589.582436  \n",
       "1215621  POLYGON ((-73.71246 41.07935, -73.71230 41.079...         113.775154  \n",
       "1215622  POLYGON ((-73.71359 41.09311, -73.71369 41.093...         212.751026  \n",
       "1215623  POLYGON ((-73.73019 41.10040, -73.73014 41.100...         134.749413  \n",
       "\n",
       "[1215624 rows x 4 columns]"
      ]
     },
     "execution_count": 37,
     "metadata": {},
     "output_type": "execute_result"
    }
   ],
   "source": [
    "ct_buildings"
   ]
  },
  {
   "cell_type": "code",
   "execution_count": 38,
   "metadata": {},
   "outputs": [],
   "source": [
    "ms_building_tile_join = gpd.overlay(ct_labeled_skim, ct_buildings, how='intersection')"
   ]
  },
  {
   "cell_type": "code",
   "execution_count": 39,
   "metadata": {},
   "outputs": [
    {
     "data": {
      "text/html": [
       "<div>\n",
       "<style scoped>\n",
       "    .dataframe tbody tr th:only-of-type {\n",
       "        vertical-align: middle;\n",
       "    }\n",
       "\n",
       "    .dataframe tbody tr th {\n",
       "        vertical-align: top;\n",
       "    }\n",
       "\n",
       "    .dataframe thead th {\n",
       "        text-align: right;\n",
       "    }\n",
       "</style>\n",
       "<table border=\"1\" class=\"dataframe\">\n",
       "  <thead>\n",
       "    <tr style=\"text-align: right;\">\n",
       "      <th></th>\n",
       "      <th>tile_name</th>\n",
       "      <th>housing_units</th>\n",
       "      <th>population</th>\n",
       "      <th>dataset</th>\n",
       "      <th>release</th>\n",
       "      <th>capture_dates_range</th>\n",
       "      <th>building_area_sqm</th>\n",
       "      <th>geometry</th>\n",
       "    </tr>\n",
       "  </thead>\n",
       "  <tbody>\n",
       "    <tr>\n",
       "      <th>0</th>\n",
       "      <td>995820_ne</td>\n",
       "      <td>718.0</td>\n",
       "      <td>1750.0</td>\n",
       "      <td>valid</td>\n",
       "      <td>2</td>\n",
       "      <td>7/15/2019-8/29/2019</td>\n",
       "      <td>243.590518</td>\n",
       "      <td>POLYGON ((-72.75000 41.72070, -72.75002 41.720...</td>\n",
       "    </tr>\n",
       "    <tr>\n",
       "      <th>1</th>\n",
       "      <td>995820_ne</td>\n",
       "      <td>718.0</td>\n",
       "      <td>1750.0</td>\n",
       "      <td>valid</td>\n",
       "      <td>2</td>\n",
       "      <td>7/15/2019-8/29/2019</td>\n",
       "      <td>119.089402</td>\n",
       "      <td>POLYGON ((-72.75000 41.71959, -72.75018 41.719...</td>\n",
       "    </tr>\n",
       "    <tr>\n",
       "      <th>2</th>\n",
       "      <td>995820_ne</td>\n",
       "      <td>718.0</td>\n",
       "      <td>1750.0</td>\n",
       "      <td>valid</td>\n",
       "      <td>2</td>\n",
       "      <td>7/15/2019-8/29/2019</td>\n",
       "      <td>138.729976</td>\n",
       "      <td>POLYGON ((-72.75458 41.71916, -72.75458 41.719...</td>\n",
       "    </tr>\n",
       "    <tr>\n",
       "      <th>3</th>\n",
       "      <td>995820_ne</td>\n",
       "      <td>718.0</td>\n",
       "      <td>1750.0</td>\n",
       "      <td>valid</td>\n",
       "      <td>2</td>\n",
       "      <td>7/15/2019-8/29/2019</td>\n",
       "      <td>134.437137</td>\n",
       "      <td>POLYGON ((-72.75532 41.72363, -72.75521 41.723...</td>\n",
       "    </tr>\n",
       "    <tr>\n",
       "      <th>4</th>\n",
       "      <td>995820_ne</td>\n",
       "      <td>718.0</td>\n",
       "      <td>1750.0</td>\n",
       "      <td>valid</td>\n",
       "      <td>2</td>\n",
       "      <td>7/15/2019-8/29/2019</td>\n",
       "      <td>169.816790</td>\n",
       "      <td>POLYGON ((-72.75620 41.72062, -72.75622 41.720...</td>\n",
       "    </tr>\n",
       "  </tbody>\n",
       "</table>\n",
       "</div>"
      ],
      "text/plain": [
       "   tile_name  housing_units  population dataset  release  capture_dates_range  \\\n",
       "0  995820_ne          718.0      1750.0   valid        2  7/15/2019-8/29/2019   \n",
       "1  995820_ne          718.0      1750.0   valid        2  7/15/2019-8/29/2019   \n",
       "2  995820_ne          718.0      1750.0   valid        2  7/15/2019-8/29/2019   \n",
       "3  995820_ne          718.0      1750.0   valid        2  7/15/2019-8/29/2019   \n",
       "4  995820_ne          718.0      1750.0   valid        2  7/15/2019-8/29/2019   \n",
       "\n",
       "   building_area_sqm                                           geometry  \n",
       "0         243.590518  POLYGON ((-72.75000 41.72070, -72.75002 41.720...  \n",
       "1         119.089402  POLYGON ((-72.75000 41.71959, -72.75018 41.719...  \n",
       "2         138.729976  POLYGON ((-72.75458 41.71916, -72.75458 41.719...  \n",
       "3         134.437137  POLYGON ((-72.75532 41.72363, -72.75521 41.723...  \n",
       "4         169.816790  POLYGON ((-72.75620 41.72062, -72.75622 41.720...  "
      ]
     },
     "execution_count": 39,
     "metadata": {},
     "output_type": "execute_result"
    }
   ],
   "source": [
    "ms_building_tile_join.head()"
   ]
  },
  {
   "cell_type": "code",
   "execution_count": 40,
   "metadata": {},
   "outputs": [],
   "source": [
    "ms_building_area_by_tile = ms_building_tile_join.groupby('tile_name').sum()['building_area_sqm']"
   ]
  },
  {
   "cell_type": "code",
   "execution_count": 41,
   "metadata": {},
   "outputs": [],
   "source": [
    "ms_building_count_by_tile = ms_building_tile_join.groupby('tile_name').count()['geometry']"
   ]
  },
  {
   "cell_type": "code",
   "execution_count": 42,
   "metadata": {},
   "outputs": [
    {
     "data": {
      "text/plain": [
       "tile_name\n",
       "000795_sw     35\n",
       "000800_ne     70\n",
       "005680_sw    104\n",
       "005815_ne    327\n",
       "005865_sw    192\n",
       "            ... \n",
       "965765_nw    151\n",
       "975745_sw     24\n",
       "980760_sw     90\n",
       "990755_nw    286\n",
       "995820_ne    378\n",
       "Name: geometry, Length: 86, dtype: int64"
      ]
     },
     "execution_count": 42,
     "metadata": {},
     "output_type": "execute_result"
    }
   ],
   "source": [
    "ms_building_count_by_tile"
   ]
  },
  {
   "cell_type": "code",
   "execution_count": 43,
   "metadata": {},
   "outputs": [],
   "source": [
    "ms_building_stats_by_tile = pd.concat([ms_building_count_by_tile, ms_building_area_by_tile], axis=1)"
   ]
  },
  {
   "cell_type": "code",
   "execution_count": 44,
   "metadata": {},
   "outputs": [
    {
     "data": {
      "text/html": [
       "<div>\n",
       "<style scoped>\n",
       "    .dataframe tbody tr th:only-of-type {\n",
       "        vertical-align: middle;\n",
       "    }\n",
       "\n",
       "    .dataframe tbody tr th {\n",
       "        vertical-align: top;\n",
       "    }\n",
       "\n",
       "    .dataframe thead th {\n",
       "        text-align: right;\n",
       "    }\n",
       "</style>\n",
       "<table border=\"1\" class=\"dataframe\">\n",
       "  <thead>\n",
       "    <tr style=\"text-align: right;\">\n",
       "      <th></th>\n",
       "      <th>tile_name</th>\n",
       "      <th>housing_units</th>\n",
       "      <th>population</th>\n",
       "      <th>dataset</th>\n",
       "      <th>geometry</th>\n",
       "    </tr>\n",
       "  </thead>\n",
       "  <tbody>\n",
       "    <tr>\n",
       "      <th>0</th>\n",
       "      <td>995820_ne</td>\n",
       "      <td>718.0</td>\n",
       "      <td>1750.0</td>\n",
       "      <td>valid</td>\n",
       "      <td>POLYGON ((-72.75916 41.72530, -72.75000 41.725...</td>\n",
       "    </tr>\n",
       "    <tr>\n",
       "      <th>1</th>\n",
       "      <td>990755_nw</td>\n",
       "      <td>955.0</td>\n",
       "      <td>2540.0</td>\n",
       "      <td>valid</td>\n",
       "      <td>POLYGON ((-72.78653 41.54691, -72.77740 41.546...</td>\n",
       "    </tr>\n",
       "    <tr>\n",
       "      <th>2</th>\n",
       "      <td>980760_sw</td>\n",
       "      <td>404.0</td>\n",
       "      <td>810.0</td>\n",
       "      <td>train</td>\n",
       "      <td>POLYGON ((-72.82307 41.55375, -72.81394 41.553...</td>\n",
       "    </tr>\n",
       "    <tr>\n",
       "      <th>3</th>\n",
       "      <td>975745_sw</td>\n",
       "      <td>180.0</td>\n",
       "      <td>549.0</td>\n",
       "      <td>train</td>\n",
       "      <td>POLYGON ((-72.84128 41.51257, -72.83215 41.512...</td>\n",
       "    </tr>\n",
       "    <tr>\n",
       "      <th>4</th>\n",
       "      <td>965765_nw</td>\n",
       "      <td>422.0</td>\n",
       "      <td>1055.0</td>\n",
       "      <td>train</td>\n",
       "      <td>POLYGON ((-72.87792 41.57429, -72.86878 41.574...</td>\n",
       "    </tr>\n",
       "    <tr>\n",
       "      <th>...</th>\n",
       "      <td>...</td>\n",
       "      <td>...</td>\n",
       "      <td>...</td>\n",
       "      <td>...</td>\n",
       "      <td>...</td>\n",
       "    </tr>\n",
       "    <tr>\n",
       "      <th>82</th>\n",
       "      <td>005865_sw</td>\n",
       "      <td>466.0</td>\n",
       "      <td>1246.0</td>\n",
       "      <td>train</td>\n",
       "      <td>POLYGON ((-72.73165 41.84193, -72.72248 41.841...</td>\n",
       "    </tr>\n",
       "    <tr>\n",
       "      <th>83</th>\n",
       "      <td>005815_ne</td>\n",
       "      <td>663.0</td>\n",
       "      <td>1651.0</td>\n",
       "      <td>train</td>\n",
       "      <td>POLYGON ((-72.72253 41.71157, -72.71338 41.711...</td>\n",
       "    </tr>\n",
       "    <tr>\n",
       "      <th>84</th>\n",
       "      <td>005680_sw</td>\n",
       "      <td>364.0</td>\n",
       "      <td>944.0</td>\n",
       "      <td>train</td>\n",
       "      <td>POLYGON ((-72.73179 41.33422, -72.72269 41.334...</td>\n",
       "    </tr>\n",
       "    <tr>\n",
       "      <th>85</th>\n",
       "      <td>000800_ne</td>\n",
       "      <td>522.0</td>\n",
       "      <td>1536.0</td>\n",
       "      <td>train</td>\n",
       "      <td>POLYGON ((-72.74085 41.67041, -72.73170 41.670...</td>\n",
       "    </tr>\n",
       "    <tr>\n",
       "      <th>86</th>\n",
       "      <td>000795_sw</td>\n",
       "      <td>82.0</td>\n",
       "      <td>202.0</td>\n",
       "      <td>valid</td>\n",
       "      <td>POLYGON ((-72.75000 41.64983, -72.74085 41.649...</td>\n",
       "    </tr>\n",
       "  </tbody>\n",
       "</table>\n",
       "<p>87 rows × 5 columns</p>\n",
       "</div>"
      ],
      "text/plain": [
       "    tile_name  housing_units  population dataset  \\\n",
       "0   995820_ne          718.0      1750.0   valid   \n",
       "1   990755_nw          955.0      2540.0   valid   \n",
       "2   980760_sw          404.0       810.0   train   \n",
       "3   975745_sw          180.0       549.0   train   \n",
       "4   965765_nw          422.0      1055.0   train   \n",
       "..        ...            ...         ...     ...   \n",
       "82  005865_sw          466.0      1246.0   train   \n",
       "83  005815_ne          663.0      1651.0   train   \n",
       "84  005680_sw          364.0       944.0   train   \n",
       "85  000800_ne          522.0      1536.0   train   \n",
       "86  000795_sw           82.0       202.0   valid   \n",
       "\n",
       "                                             geometry  \n",
       "0   POLYGON ((-72.75916 41.72530, -72.75000 41.725...  \n",
       "1   POLYGON ((-72.78653 41.54691, -72.77740 41.546...  \n",
       "2   POLYGON ((-72.82307 41.55375, -72.81394 41.553...  \n",
       "3   POLYGON ((-72.84128 41.51257, -72.83215 41.512...  \n",
       "4   POLYGON ((-72.87792 41.57429, -72.86878 41.574...  \n",
       "..                                                ...  \n",
       "82  POLYGON ((-72.73165 41.84193, -72.72248 41.841...  \n",
       "83  POLYGON ((-72.72253 41.71157, -72.71338 41.711...  \n",
       "84  POLYGON ((-72.73179 41.33422, -72.72269 41.334...  \n",
       "85  POLYGON ((-72.74085 41.67041, -72.73170 41.670...  \n",
       "86  POLYGON ((-72.75000 41.64983, -72.74085 41.649...  \n",
       "\n",
       "[87 rows x 5 columns]"
      ]
     },
     "execution_count": 44,
     "metadata": {},
     "output_type": "execute_result"
    }
   ],
   "source": [
    "ct_labeled_skim"
   ]
  },
  {
   "cell_type": "code",
   "execution_count": 45,
   "metadata": {},
   "outputs": [],
   "source": [
    "ms_building_stats_by_tile = ms_building_stats_by_tile.join(ct_labeled_skim.set_index('tile_name')['dataset'])"
   ]
  },
  {
   "cell_type": "code",
   "execution_count": 46,
   "metadata": {},
   "outputs": [
    {
     "data": {
      "text/plain": [
       "array([[<AxesSubplot:title={'center':'geometry'}>,\n",
       "        <AxesSubplot:title={'center':'building_area_sqm'}>]], dtype=object)"
      ]
     },
     "execution_count": 46,
     "metadata": {},
     "output_type": "execute_result"
    },
    {
     "data": {
      "image/png": "[encoded data removed]",
      "text/plain": [
       "<Figure size 432x288 with 2 Axes>"
      ]
     },
     "metadata": {
      "needs_background": "light"
     },
     "output_type": "display_data"
    }
   ],
   "source": [
    "ms_building_stats_by_tile.query('dataset == \"train\"').hist()"
   ]
  },
  {
   "cell_type": "code",
   "execution_count": 47,
   "metadata": {},
   "outputs": [
    {
     "data": {
      "text/plain": [
       "array([[<AxesSubplot:title={'center':'geometry'}>,\n",
       "        <AxesSubplot:title={'center':'building_area_sqm'}>]], dtype=object)"
      ]
     },
     "execution_count": 47,
     "metadata": {},
     "output_type": "execute_result"
    },
    {
     "data": {
      "image/png": "[encoded data removed]",
      "text/plain": [
       "<Figure size 432x288 with 2 Axes>"
      ]
     },
     "metadata": {
      "needs_background": "light"
     },
     "output_type": "display_data"
    }
   ],
   "source": [
    "ms_building_stats_by_tile.query('dataset == \"valid\"').hist()"
   ]
  },
  {
   "cell_type": "code",
   "execution_count": 48,
   "metadata": {},
   "outputs": [
    {
     "data": {
      "image/png": "[encoded data removed]",
      "text/plain": [
       "<Figure size 576x576 with 1 Axes>"
      ]
     },
     "metadata": {
      "needs_background": "light"
     },
     "output_type": "display_data"
    }
   ],
   "source": [
    "plt.figure(figsize=(8, 8))\n",
    "\n",
    "for set_name in ['train', 'valid']:\n",
    "    set_slice = ms_building_stats_by_tile.query(f'dataset == \"{set_name}\"')\n",
    "    plt.scatter(set_slice.geometry, set_slice.building_area_sqm, label=f'{set_name} set'.title())\n",
    "    \n",
    "plt.xlabel('Number of buildings in the tile', fontsize=18)\n",
    "plt.ylabel('Total building area in the tile ($m^2$)', fontsize=18)\n",
    "plt.legend(fontsize=18)\n",
    "plt.show()"
   ]
  },
  {
   "cell_type": "code",
   "execution_count": 49,
   "metadata": {},
   "outputs": [
    {
     "data": {
      "image/png": "[encoded data removed]",
      "text/plain": [
       "<Figure size 576x360 with 1 Axes>"
      ]
     },
     "metadata": {
      "needs_background": "light"
     },
     "output_type": "display_data"
    }
   ],
   "source": [
    "column_name = 'geometry'\n",
    "title = 'Number of buildings in the tile'\n",
    "\n",
    "fig, ax = plt.subplots(1, 1, figsize=(8, 5))\n",
    "\n",
    "for i, set_name in enumerate(['train', 'valid']):\n",
    "    set_slice = ms_building_stats_by_tile.query(f'dataset == \"{set_name}\"')\n",
    "    set_slice[f'{column_name}'].hist(bins=10, alpha=1-i*0.2, ax=ax, label=f'{set_name} set'.title())\n",
    "    \n",
    "plt.legend(fontsize=18)\n",
    "plt.ylabel('Freq', fontsize=18)\n",
    "plt.xlabel(title, fontsize=18)\n",
    "plt.show()"
   ]
  },
  {
   "cell_type": "code",
   "execution_count": 67,
   "metadata": {},
   "outputs": [
    {
     "data": {
      "image/png": "[encoded data removed]",
      "text/plain": [
       "<Figure size 576x432 with 1 Axes>"
      ]
     },
     "metadata": {
      "needs_background": "light"
     },
     "output_type": "display_data"
    }
   ],
   "source": [
    "column_name = 'geometry'\n",
    "title = 'Number of buildings per image tile\\n in validation set'\n",
    "\n",
    "fig, ax = plt.subplots(1, 1, figsize=(8, 6))\n",
    "\n",
    "for i, set_name in enumerate(['valid']):\n",
    "    set_slice = ms_building_stats_by_tile.query(f'dataset == \"{set_name}\"')\n",
    "    set_slice[f'{column_name}'].hist(bins=30, alpha=1-i*0.2, ax=ax, label=f'{set_name} set'.title())\n",
    "    \n",
    "# plt.legend(fontsize=18)\n",
    "plt.grid(visible=True, alpha=0.4)\n",
    "plt.ylabel('Number of image tiles', fontsize=18)\n",
    "plt.xlabel(title, fontsize=18)\n",
    "plt.tight_layout()\n",
    "plt.savefig(\n",
    "    'final_resutls/ct_stratified_microsoft/valid_hist.png', dpi=300\n",
    ")\n",
    "plt.show()"
   ]
  },
  {
   "cell_type": "code",
   "execution_count": 50,
   "metadata": {},
   "outputs": [
    {
     "data": {
      "image/png": "[encoded data removed]",
      "text/plain": [
       "<Figure size 576x360 with 1 Axes>"
      ]
     },
     "metadata": {
      "needs_background": "light"
     },
     "output_type": "display_data"
    }
   ],
   "source": [
    "column_name = 'building_area_sqm'\n",
    "title = 'Total building area in the tile ($m^2$)'\n",
    "\n",
    "fig, ax = plt.subplots(1, 1, figsize=(8, 5))\n",
    "\n",
    "for i, set_name in enumerate(['train', 'valid']):\n",
    "    set_slice = ms_building_stats_by_tile.query(f'dataset == \"{set_name}\"')\n",
    "    set_slice[f'{column_name}'].hist(bins=10, alpha=1-i*0.2, ax=ax, label=f'{set_name} set'.title())\n",
    "    \n",
    "plt.legend(fontsize=18)\n",
    "plt.ylabel('Freq', fontsize=18)\n",
    "plt.xlabel(title, fontsize=18)\n",
    "plt.show()"
   ]
  },
  {
   "cell_type": "code",
   "execution_count": 51,
   "metadata": {},
   "outputs": [
    {
     "data": {
      "text/html": [
       "<div>\n",
       "<style scoped>\n",
       "    .dataframe tbody tr th:only-of-type {\n",
       "        vertical-align: middle;\n",
       "    }\n",
       "\n",
       "    .dataframe tbody tr th {\n",
       "        vertical-align: top;\n",
       "    }\n",
       "\n",
       "    .dataframe thead th {\n",
       "        text-align: right;\n",
       "    }\n",
       "</style>\n",
       "<table border=\"1\" class=\"dataframe\">\n",
       "  <thead>\n",
       "    <tr style=\"text-align: right;\">\n",
       "      <th></th>\n",
       "      <th>geometry</th>\n",
       "      <th>building_area_sqm</th>\n",
       "    </tr>\n",
       "  </thead>\n",
       "  <tbody>\n",
       "    <tr>\n",
       "      <th>count</th>\n",
       "      <td>56.000000</td>\n",
       "      <td>56.000000</td>\n",
       "    </tr>\n",
       "    <tr>\n",
       "      <th>mean</th>\n",
       "      <td>141.910714</td>\n",
       "      <td>38510.756671</td>\n",
       "    </tr>\n",
       "    <tr>\n",
       "      <th>std</th>\n",
       "      <td>171.910577</td>\n",
       "      <td>30685.678096</td>\n",
       "    </tr>\n",
       "    <tr>\n",
       "      <th>min</th>\n",
       "      <td>2.000000</td>\n",
       "      <td>1111.982498</td>\n",
       "    </tr>\n",
       "    <tr>\n",
       "      <th>25%</th>\n",
       "      <td>47.000000</td>\n",
       "      <td>16267.528820</td>\n",
       "    </tr>\n",
       "    <tr>\n",
       "      <th>50%</th>\n",
       "      <td>80.000000</td>\n",
       "      <td>34483.364786</td>\n",
       "    </tr>\n",
       "    <tr>\n",
       "      <th>75%</th>\n",
       "      <td>145.000000</td>\n",
       "      <td>50693.590314</td>\n",
       "    </tr>\n",
       "    <tr>\n",
       "      <th>max</th>\n",
       "      <td>847.000000</td>\n",
       "      <td>137139.595046</td>\n",
       "    </tr>\n",
       "  </tbody>\n",
       "</table>\n",
       "</div>"
      ],
      "text/plain": [
       "         geometry  building_area_sqm\n",
       "count   56.000000          56.000000\n",
       "mean   141.910714       38510.756671\n",
       "std    171.910577       30685.678096\n",
       "min      2.000000        1111.982498\n",
       "25%     47.000000       16267.528820\n",
       "50%     80.000000       34483.364786\n",
       "75%    145.000000       50693.590314\n",
       "max    847.000000      137139.595046"
      ]
     },
     "execution_count": 51,
     "metadata": {},
     "output_type": "execute_result"
    }
   ],
   "source": [
    "ms_building_stats_by_tile.query('dataset == \"train\"').describe()"
   ]
  },
  {
   "cell_type": "code",
   "execution_count": 52,
   "metadata": {},
   "outputs": [
    {
     "data": {
      "text/html": [
       "<div>\n",
       "<style scoped>\n",
       "    .dataframe tbody tr th:only-of-type {\n",
       "        vertical-align: middle;\n",
       "    }\n",
       "\n",
       "    .dataframe tbody tr th {\n",
       "        vertical-align: top;\n",
       "    }\n",
       "\n",
       "    .dataframe thead th {\n",
       "        text-align: right;\n",
       "    }\n",
       "</style>\n",
       "<table border=\"1\" class=\"dataframe\">\n",
       "  <thead>\n",
       "    <tr style=\"text-align: right;\">\n",
       "      <th></th>\n",
       "      <th>geometry</th>\n",
       "      <th>building_area_sqm</th>\n",
       "    </tr>\n",
       "  </thead>\n",
       "  <tbody>\n",
       "    <tr>\n",
       "      <th>count</th>\n",
       "      <td>30.000000</td>\n",
       "      <td>30.000000</td>\n",
       "    </tr>\n",
       "    <tr>\n",
       "      <th>mean</th>\n",
       "      <td>262.500000</td>\n",
       "      <td>61177.078902</td>\n",
       "    </tr>\n",
       "    <tr>\n",
       "      <th>std</th>\n",
       "      <td>188.299605</td>\n",
       "      <td>31894.584340</td>\n",
       "    </tr>\n",
       "    <tr>\n",
       "      <th>min</th>\n",
       "      <td>10.000000</td>\n",
       "      <td>5889.372198</td>\n",
       "    </tr>\n",
       "    <tr>\n",
       "      <th>25%</th>\n",
       "      <td>86.500000</td>\n",
       "      <td>43742.433442</td>\n",
       "    </tr>\n",
       "    <tr>\n",
       "      <th>50%</th>\n",
       "      <td>268.000000</td>\n",
       "      <td>55645.202267</td>\n",
       "    </tr>\n",
       "    <tr>\n",
       "      <th>75%</th>\n",
       "      <td>402.000000</td>\n",
       "      <td>77668.233105</td>\n",
       "    </tr>\n",
       "    <tr>\n",
       "      <th>max</th>\n",
       "      <td>620.000000</td>\n",
       "      <td>154706.556227</td>\n",
       "    </tr>\n",
       "  </tbody>\n",
       "</table>\n",
       "</div>"
      ],
      "text/plain": [
       "         geometry  building_area_sqm\n",
       "count   30.000000          30.000000\n",
       "mean   262.500000       61177.078902\n",
       "std    188.299605       31894.584340\n",
       "min     10.000000        5889.372198\n",
       "25%     86.500000       43742.433442\n",
       "50%    268.000000       55645.202267\n",
       "75%    402.000000       77668.233105\n",
       "max    620.000000      154706.556227"
      ]
     },
     "execution_count": 52,
     "metadata": {},
     "output_type": "execute_result"
    }
   ],
   "source": [
    "ms_building_stats_by_tile.query('dataset == \"valid\"').describe()"
   ]
  },
  {
   "cell_type": "code",
   "execution_count": null,
   "metadata": {},
   "outputs": [],
   "source": [
    "building_by_tile_dict = {}"
   ]
  },
  {
   "cell_type": "code",
   "execution_count": null,
   "metadata": {},
   "outputs": [],
   "source": [
    "building_by_tile_dict['low'] = ms_building_stats_by_tile.query('dataset == \"valid\" and geometry <= 87').index.tolist()\n",
    "building_by_tile_dict['med'] = ms_building_stats_by_tile.query('dataset == \"valid\" and geometry > 87 and geometry <= 402').index.tolist()\n",
    "building_by_tile_dict['high'] = ms_building_stats_by_tile.query('dataset == \"valid\" and geometry > 402').index.tolist()"
   ]
  },
  {
   "cell_type": "code",
   "execution_count": null,
   "metadata": {},
   "outputs": [
    {
     "name": "stdout",
     "output_type": "stream",
     "text": [
      "low 8\n",
      "med 14\n",
      "high 8\n"
     ]
    }
   ],
   "source": [
    "for k, v in building_by_tile_dict.items():\n",
    "    print(k, len(v))"
   ]
  },
  {
   "cell_type": "code",
   "execution_count": null,
   "metadata": {},
   "outputs": [
    {
     "data": {
      "text/plain": [
       "['000795_sw',\n",
       " '080905_nw',\n",
       " '080910_sw',\n",
       " '120915_sw',\n",
       " '785700_sw',\n",
       " '915745_ne',\n",
       " '930650_ne',\n",
       " '935655_sw']"
      ]
     },
     "execution_count": 92,
     "metadata": {},
     "output_type": "execute_result"
    }
   ],
   "source": [
    "building_by_tile_dict['low']"
   ]
  },
  {
   "cell_type": "code",
   "execution_count": 90,
   "metadata": {},
   "outputs": [],
   "source": [
    "out_dir = Path('final_resutls') / 'stratified_microsoft'\n",
    "valid_tiles_dir = Path(r'ct_data\\all_ct_labeled\\valid')"
   ]
  },
  {
   "cell_type": "code",
   "execution_count": 91,
   "metadata": {},
   "outputs": [],
   "source": [
    "from shutil import copy2"
   ]
  },
  {
   "cell_type": "code",
   "execution_count": 96,
   "metadata": {},
   "outputs": [],
   "source": [
    "for k, tile_list in building_by_tile_dict.items():\n",
    "    outpath = out_dir / f'{k}_density_tiles'\n",
    "    if not outpath.exists():\n",
    "        outpath.mkdir(parents=True)\n",
    "        \n",
    "    # for tile_name in tile_list:\n",
    "    #     copy2(\n",
    "    #         valid_tiles_dir / f'{tile_name}.jpg',\n",
    "    #         outpath\n",
    "    #     )\n",
    "    \n",
    "    with open(out_dir / f'{k}_density_tile_list.txt', 'w') as f:\n",
    "        f.writelines([l + '\\n' for l in tile_list])"
   ]
  }
 ],
 "metadata": {
  "interpreter": {
   "hash": "0866f21a6f536d3b818793ebb869dad57a6f0a84e6075178b04b2bfeaace776d"
  },
  "kernelspec": {
   "display_name": "Python 3.9.2 64-bit ('geo_env': conda)",
   "language": "python",
   "name": "python3"
  },
  "language_info": {
   "codemirror_mode": {
    "name": "ipython",
    "version": 3
   },
   "file_extension": ".py",
   "mimetype": "text/x-python",
   "name": "python",
   "nbconvert_exporter": "python",
   "pygments_lexer": "ipython3",
   "version": "3.9.2"
  },
  "orig_nbformat": 4
 },
 "nbformat": 4,
 "nbformat_minor": 2
}
